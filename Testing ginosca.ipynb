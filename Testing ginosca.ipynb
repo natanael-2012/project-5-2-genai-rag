{
  "cells": [
    {
      "cell_type": "markdown",
      "metadata": {
        "id": "dcTLFIF3Jkix"
      },
      "source": [
        "# 📜 **Finance Laws Retrieval-Augmented Generation (RAG) System**\n",
        "### **Ironhack Data Science and Machine Learning Bootcamp**\n",
        "📅 **Date:** February 5, 2025  \n",
        "📅 **Submission Date:** February 7, 2025  \n",
        "👩‍💻 **Authors:** Ginosca Alejandro Dávila & Natanael Santiago Morales  \n",
        "\n",
        "---\n",
        "\n",
        "## **📌 Introduction**\n",
        "Retrieval-Augmented Generation (**RAG**) is an AI framework that enhances **information retrieval** by combining:\n",
        "- A **vector database** to retrieve relevant documents.\n",
        "- A **Large Language Model (LLM)** to generate contextualized responses.\n",
        "\n",
        "This approach is widely used in **legal research, finance, customer support, and knowledge management**, improving accuracy and relevance in automated systems.\n",
        "\n",
        "---\n",
        "\n",
        "## **📌 Project Overview**\n",
        "This project aims to build a **RAG system** focused on **finance laws and regulations**. By integrating **document retrieval** and **LLM-based generation**, the system will provide **accurate, contextualized answers** to legal and financial queries.\n",
        "\n",
        "We will experiment with different **embedding models** (e.g., OpenAI’s `text-embedding-3-large` vs. `all-MiniLM-L6-v2`) and **vector databases** (e.g., ChromaDB) to optimize retrieval and response generation.\n",
        "\n",
        "---\n",
        "\n",
        "## **📂 Dataset Description**\n",
        "- **Source:** A collection of **finance laws, regulations, and legal texts**.  \n",
        "- **Format:** `.zip` file containing multiple `.pdf` files, each representing legal provisions, case law, or financial regulations.  \n",
        "\n",
        "---\n",
        "\n",
        "## **🎯 Goals**\n",
        "✔ Develop a **RAG pipeline** specialized in finance law and legal text retrieval.  \n",
        "✔ Compare **OpenAI embeddings** and **Sentence Transformers** for legal text retrieval.  \n",
        "✔ Evaluate the system based on **retrieval accuracy** and **response relevance**.  \n",
        "✔ *(Bonus)* Deploy the system as a **web application** using Streamlit or Flask.  \n",
        "✔ *(Bonus)* Incorporate **legal case studies** and **financial reports** for richer context.  \n",
        "\n",
        "---\n",
        "\n",
        "🔹 **Let’s dive in and build our Finance RAG system! 🚀**\n"
      ]
    },
    {
      "cell_type": "markdown",
      "metadata": {
        "id": "ErDDWaJL4Fy0"
      },
      "source": [
        "## **Data Selection**\n",
        "We chose the **Financial Laws Collection**, a dataset containing **11 PDF documents** on **financial legislation in the European Union**.  \n",
        "\n",
        "Initially, we considered the **Puerto Rico News Articles** dataset, but its **unstructured and unreadable format** made it unsuitable for this project.  \n",
        "\n",
        "Each document in our chosen dataset varies in **length and content**, covering **legal provisions, case law, and financial regulations**.\n"
      ]
    },
    {
      "cell_type": "markdown",
      "metadata": {
        "id": "ppP2BTQq4Fy6"
      },
      "source": [
        "## **Library Imports & Setup**\n",
        "\n",
        "We begin by **importing and installing the necessary libraries** for the project. The core library used is **LangChain**, a framework designed to simplify the creation of applications that use **Large Language Models (LLMs)**.\n",
        "\n",
        "### **Key Libraries Used**\n",
        "- **`langchain_openai`** → Integrates OpenAI models via their SDK. Used for `OpenAIEmbeddings`.\n",
        "- **`langchain_huggingface`** → Enables the use of **Hugging Face embeddings** within LangChain.\n",
        "- **`langchain_chroma`** → Provides integration with **ChromaDB**, an AI-native vector database.\n",
        "- **`langchain_community`** → Loads and processes PDF documents, splitting them into pages.\n",
        "- **`langchain_text_splitters`** → Splits text into **manageable chunks** for retrieval-based processing.\n",
        "\n",
        "Additionally, we use:\n",
        "- **`enchant`** → A spell-checking library that helps correct and merge split words.\n",
        "- **`openai`** → To connect with OpenAI's API for embeddings and response generation.\n",
        "\n",
        "We also **load the OpenAI API key** and initialize the OpenAI client.\n"
      ]
    },
    {
      "cell_type": "code",
      "execution_count": null,
      "metadata": {
        "id": "cYX0evVi4Fy8"
      },
      "outputs": [],
      "source": [
        "# Import necessary libraries\n",
        "from langchain_openai import OpenAIEmbeddings\n",
        "from langchain_huggingface.embeddings import HuggingFaceEmbeddings\n",
        "\n",
        "from langchain_chroma import Chroma\n",
        "from langchain_community.document_loaders import PyPDFLoader\n",
        "from langchain_text_splitters import CharacterTextSplitter\n",
        "\n",
        "import os\n",
        "import enchant\n",
        "import re\n",
        "\n",
        "from dotenv import load_dotenv\n",
        "from IPython.display import Markdown\n",
        "\n",
        "\n",
        "# Set your OpenAI API key\n",
        "load_dotenv()\n",
        "API_KEY = os.getenv(\"OPENAI_API_KEY\")\n",
        "\n",
        "\n",
        "from openai import OpenAI\n",
        "\n",
        "client = OpenAI(\n",
        "  api_key= API_KEY\n",
        ")"
      ]
    },
    {
      "cell_type": "markdown",
      "metadata": {
        "id": "oaqQ0dDUBxg2"
      },
      "source": [
        "## **Chunking the Text for Efficient Retrieval**\n",
        "\n",
        "After extracting text from the PDF documents, we need to **split the text into chunks** before storing them in a vector database. This ensures **efficient retrieval** and **accurate responses**.\n",
        "\n",
        "### **Text Splitter Selection**\n",
        "We evaluated two splitting strategies:\n",
        "1. **`CharacterTextSplitter`** → Splits text into **fixed-length chunks** with controlled overlap.  \n",
        "2. **`RecursiveCharacterTextSplitter`** → Dynamically splits text but **often produces excessively small chunks**, reducing context.\n",
        "\n",
        "### **Why We Chose `CharacterTextSplitter`**\n",
        "✔ **Preserves context** using an **overlap of 200 characters**.  \n",
        "✔ **Prevents excessive fragmentation**, ensuring chunks retain **complete, meaningful information**.  \n",
        "✔ **Offers predictable behavior**, making retrieval tuning easier.\n",
        "\n",
        "### **Implementation Steps**\n",
        "1. **Initialized an empty list (`all_docs[]`)** to store processed chunks.\n",
        "2. **Created a text splitter** (`CharacterTextSplitter`) with `chunk_size=1000` and `chunk_overlap=200`.\n",
        "3. **Looped through the PDF files**, loading each document and splitting them into **pages**.\n",
        "4. **Further split each page into smaller chunks**, maintaining meaningful context.\n",
        "5. **Stored the processed chunks in `all_docs[]`**, preparing them for embedding and retrieval.\n",
        "\n",
        "The following code block implements this process.\n"
      ]
    },
    {
      "cell_type": "code",
      "execution_count": null,
      "metadata": {
        "id": "lQ7T-9yw4FzE",
        "outputId": "4eae428e-59b1-4f1d-b713-e3fa9d60e3db"
      },
      "outputs": [
        {
          "name": "stdout",
          "output_type": "stream",
          "text": [
            "Number of documents: 1561\n"
          ]
        }
      ],
      "source": [
        "# Directory containing the PDF files\n",
        "document_dir = \"./data/Finance_laws/EurLex_v1\"\n",
        "\n",
        "# Initialize an empty list to hold all documents\n",
        "all_docs = []\n",
        "\n",
        "# Create a text splitter\n",
        "text_splitter = CharacterTextSplitter(chunk_size=1000, chunk_overlap=200)\n",
        "\n",
        "# Loop through all PDF files in the directory\n",
        "for filename in os.listdir(document_dir):\n",
        "    # Checking that we only take pdf files\n",
        "    if filename.endswith(\".pdf\"):\n",
        "        # after getting the file name, we add it to the path\n",
        "        file_path = os.path.join(document_dir, filename)\n",
        "        # Load the document and split it into pages\n",
        "        pages = PyPDFLoader(file_path).load_and_split()\n",
        "        # Split the text content of each page into smaller chunks\n",
        "        docs = text_splitter.split_documents(pages)\n",
        "        # Add the smaller chunks to the all_docs list\n",
        "        all_docs.extend(docs)\n",
        "\n",
        "print(f\"Number of documents: {len(all_docs)}\")"
      ]
    },
    {
      "cell_type": "markdown",
      "metadata": {
        "id": "5uEaxj6G4FzK"
      },
      "source": [
        "## **Examining a Sample Chunk**\n",
        "\n",
        "After loading and chunking all the documents, we now examine a **sample chunk** from `all_docs[]`.  \n",
        "\n",
        "Each chunk is represented as a **LangChain `Document` object**, which contains:\n",
        "- **Metadata** → Includes the **document source** (file path) and **page number**.\n",
        "- **Page Content** → The actual **text extracted** from that chunk.\n",
        "\n",
        "Below is an example of how a chunk is structured:\n",
        "\n",
        "```python\n",
        "[\n",
        "    Document(\n",
        "        metadata={\n",
        "            'source': './data/Finance_laws/EurLex_v1/AMLD_EURLEX.pdf', # Path to the document\n",
        "            'page': 0,                                                  # Page number (from the document)\n",
        "            'page_label': '1'                                           # Page number assigned by the text splitter.\n",
        "        },\n",
        "        page_content=                                                   # Text from the chunk\n",
        "            \"Chunk contents\"\n",
        "    )\n",
        "]\n"
      ]
    },
    {
      "cell_type": "code",
      "execution_count": null,
      "metadata": {
        "id": "1aRQFijB4FzM",
        "outputId": "383e11b0-ab40-46d1-c646-2e80c6f15018"
      },
      "outputs": [
        {
          "data": {
            "text/plain": [
              "Document(metadata={'source': './data/Finance_laws/EurLex_v1\\\\AMLD_EURLEX.pdf', 'page': 0, 'page_label': '1'}, page_content=\"DIRECTIVES \\nDIRECTIVE (EU) 2015/849 OF THE EUR OPEAN P ARLIAMENT AND OF THE COUNC IL \\nof 20 May 2015 \\non the prev ention of the use of the f inancial sys tem for the pur poses of money launder ing or \\nter ror is t f inancing, amending Regulation (EU) No 648/2012 of the European Parliament and of the \\nCouncil, and repealing Directiv e 2005/60/EC of the European Parliament and of the Council and \\nCommission Directiv e 2006/70/EC \\n(T ext with EEA relevance) \\nTHE EUR OPEAN P ARLIAMENT AND THE COUNCIL OF THE EUR OPEAN UNION, \\nHa ving regar d to the T reaty on the Functioning of the European Union, and in par ticular Ar ticle 114 thereof, \\nHa ving regar d to the proposal from the European Commission, \\nAf ter transmission of the draf t legislative act to the national parliaments, \\nHa ving regar d to the opinion of the European Central Bank (\\n1\\n), \\nHa ving regar d to the opinion of the European Economic and Social Committ ee (\\n2\\n), \\nA cting in accordance with the ordinar y legislative procedure (\\n3\\n), \\nWhereas: \\n(1)  Flo ws of illicit mone y can damage the integrit y , stability and reputation of the financial sector , and threaten the \\ninternal market of the U nion as well as intern ational development. Mone y launder ing, terror ism financing and \\norg anised cr ime remain significant problems which should be addressed at U nion level. In addition to fur ther \\ndeveloping the cr iminal la w approach at Union level, target ed and propor tionat e prevention of the use of the \\nfinancia l system f or the pur poses of money launder ing and terr or ist financing is indispensable and can produce \\ncompl ementar y results. \\n(2)  The soundness, integr ity and stability of credit institutions and fi nancial institutions, and confidence in the \\nfinancia l system as a whole could be ser iously jeopardised by the eff or ts of cr iminals and their associates to \\ndisguise the or igin of cr iminal proceeds or to c hannel lawful or illicit money f or terr or ist pur poses. In order to \\nf acilitate their cr iminal activities, mone y launderers and financer s of te r ror ism could tr y to take advantage of the \\nfreedom of capital mo vements and the freedom to supply fi nancial ser vices whic h the U nion's integrat ed fi nancial \\narea entails. Theref ore, cer tain coordinating measures are necessar y at U nion level. A t the same time, the \\nobjectives of prot ecting society from cr ime and protectin g the stability and integrit y of the Union's financia l \\nsystem should be balanced ag ainst the need to create a regulatory en vironment that allo ws compan ies to gro w \\ntheir businesses without incur r ing dispropor tionate compl iance costs. \\n(3)  This Directive is the f our th directive to address the threat of mone y launder ing. Council Directive 91/308/EEC (\\n4\\n) \\ndefined mone y launder ing in term s of dr ugs off ences and imposed obligations solely on the financial sector . \\n5.6.2015 L 141/73 Official Jour nal of the European Union EN     \\n(\\n1\\n) OJ C 166, 12.6.2013, p. 2. \\n(\\n2\\n) OJ C 271, 19.9.2013, p. 31. \\n(\\n3\\n) P osition of the European P arliament of 11 March 2014 (not yet published in the Offi cial Jour nal) and position of the Council at first \\nreading of 20 Apr il 2015 (not yet published in the Offi cial Jour nal). P osition of the European P arliament of 20 Ma y 2015 (not yet \\npublished in the Official Jour nal). \\n(\\n4\\n) Council Directive 91/308/EEC of 10 June 1991 on prevention of the use of the f inancial syst em f or the pur pose of money launder ing \\n(OJ L 166, 28.6.1991, p. 77).\")"
            ]
          },
          "execution_count": 3,
          "metadata": {},
          "output_type": "execute_result"
        }
      ],
      "source": [
        "all_docs[0]"
      ]
    },
    {
      "cell_type": "markdown",
      "metadata": {
        "id": "T-y5NXd44FzP"
      },
      "source": [
        "## **Evaluating the Quality of Chunks**\n",
        "\n",
        "To assess our chunking strategy, we print **the first chunk** of `all_docs[]`.\n",
        "\n",
        "### **Key Checks**\n",
        "✔ **Does each chunk retain full sentences?**  \n",
        "✔ **Are words improperly split or cut off?**  \n",
        "✔ **Are there excessive line breaks or formatting errors?**  \n",
        "\n",
        "Identifying **text anomalies** early ensures clean data for embedding and retrieval.\n"
      ]
    },
    {
      "cell_type": "code",
      "execution_count": null,
      "metadata": {
        "id": "Y1KK0VzD4FzR",
        "outputId": "ebde44ea-6c52-4501-f9cb-68d32db00b5a"
      },
      "outputs": [
        {
          "name": "stdout",
          "output_type": "stream",
          "text": [
            "DIRECTIVES \n",
            "DIRECTIVE (EU) 2015/849 OF THE EUR OPEAN P ARLIAMENT AND OF THE COUNC IL \n",
            "of 20 May 2015 \n",
            "on the prev ention of the use of the f inancial sys tem for the pur poses of money launder ing or \n",
            "ter ror is t f inancing, amending Regulation (EU) No 648/2012 of the European Parliament and of the \n",
            "Council, and repealing Directiv e 2005/60/EC of the European Parliament and of the Council and \n",
            "Commission Directiv e 2006/70/EC \n",
            "(T ext with EEA relevance) \n",
            "THE EUR OPEAN P ARLIAMENT AND THE COUNCIL OF THE EUR OPEAN UNION, \n",
            "Ha ving regar d to the T reaty on the Functioning of the European Union, and in par ticular Ar ticle 114 thereof, \n",
            "Ha ving regar d to the proposal from the European Commission, \n",
            "Af ter transmission of the draf t legislative act to the national parliaments, \n",
            "Ha ving regar d to the opinion of the European Central Bank (\n",
            "1\n",
            "), \n",
            "Ha ving regar d to the opinion of the European Economic and Social Committ ee (\n",
            "2\n",
            "), \n",
            "A cting in accordance with the ordinar y legislative procedure (\n",
            "3\n",
            "), \n",
            "Whereas: \n",
            "(1)  Flo ws of illicit mone y can damage the integrit y , stability and reputation of the financial sector , and threaten the \n",
            "internal market of the U nion as well as intern ational development. Mone y launder ing, terror ism financing and \n",
            "org anised cr ime remain significant problems which should be addressed at U nion level. In addition to fur ther \n",
            "developing the cr iminal la w approach at Union level, target ed and propor tionat e prevention of the use of the \n",
            "financia l system f or the pur poses of money launder ing and terr or ist financing is indispensable and can produce \n",
            "compl ementar y results. \n",
            "(2)  The soundness, integr ity and stability of credit institutions and fi nancial institutions, and confidence in the \n",
            "financia l system as a whole could be ser iously jeopardised by the eff or ts of cr iminals and their associates to \n",
            "disguise the or igin of cr iminal proceeds or to c hannel lawful or illicit money f or terr or ist pur poses. In order to \n",
            "f acilitate their cr iminal activities, mone y launderers and financer s of te r ror ism could tr y to take advantage of the \n",
            "freedom of capital mo vements and the freedom to supply fi nancial ser vices whic h the U nion's integrat ed fi nancial \n",
            "area entails. Theref ore, cer tain coordinating measures are necessar y at U nion level. A t the same time, the \n",
            "objectives of prot ecting society from cr ime and protectin g the stability and integrit y of the Union's financia l \n",
            "system should be balanced ag ainst the need to create a regulatory en vironment that allo ws compan ies to gro w \n",
            "their businesses without incur r ing dispropor tionate compl iance costs. \n",
            "(3)  This Directive is the f our th directive to address the threat of mone y launder ing. Council Directive 91/308/EEC (\n",
            "4\n",
            ") \n",
            "defined mone y launder ing in term s of dr ugs off ences and imposed obligations solely on the financial sector . \n",
            "5.6.2015 L 141/73 Official Jour nal of the European Union EN     \n",
            "(\n",
            "1\n",
            ") OJ C 166, 12.6.2013, p. 2. \n",
            "(\n",
            "2\n",
            ") OJ C 271, 19.9.2013, p. 31. \n",
            "(\n",
            "3\n",
            ") P osition of the European P arliament of 11 March 2014 (not yet published in the Offi cial Jour nal) and position of the Council at first \n",
            "reading of 20 Apr il 2015 (not yet published in the Offi cial Jour nal). P osition of the European P arliament of 20 Ma y 2015 (not yet \n",
            "published in the Official Jour nal). \n",
            "(\n",
            "4\n",
            ") Council Directive 91/308/EEC of 10 June 1991 on prevention of the use of the f inancial syst em f or the pur pose of money launder ing \n",
            "(OJ L 166, 28.6.1991, p. 77).\n"
          ]
        },
        {
          "data": {
            "text/markdown": [
              "DIRECTIVES \n",
              "DIRECTIVE (EU) 2015/849 OF THE EUR OPEAN P ARLIAMENT AND OF THE COUNC IL \n",
              "of 20 May 2015 \n",
              "on the prev ention of the use of the f inancial sys tem for the pur poses of money launder ing or \n",
              "ter ror is t f inancing, amending Regulation (EU) No 648/2012 of the European Parliament and of the \n",
              "Council, and repealing Directiv e 2005/60/EC of the European Parliament and of the Council and \n",
              "Commission Directiv e 2006/70/EC \n",
              "(T ext with EEA relevance) \n",
              "THE EUR OPEAN P ARLIAMENT AND THE COUNCIL OF THE EUR OPEAN UNION, \n",
              "Ha ving regar d to the T reaty on the Functioning of the European Union, and in par ticular Ar ticle 114 thereof, \n",
              "Ha ving regar d to the proposal from the European Commission, \n",
              "Af ter transmission of the draf t legislative act to the national parliaments, \n",
              "Ha ving regar d to the opinion of the European Central Bank (\n",
              "1\n",
              "), \n",
              "Ha ving regar d to the opinion of the European Economic and Social Committ ee (\n",
              "2\n",
              "), \n",
              "A cting in accordance with the ordinar y legislative procedure (\n",
              "3\n",
              "), \n",
              "Whereas: \n",
              "(1)  Flo ws of illicit mone y can damage the integrit y , stability and reputation of the financial sector , and threaten the \n",
              "internal market of the U nion as well as intern ational development. Mone y launder ing, terror ism financing and \n",
              "org anised cr ime remain significant problems which should be addressed at U nion level. In addition to fur ther \n",
              "developing the cr iminal la w approach at Union level, target ed and propor tionat e prevention of the use of the \n",
              "financia l system f or the pur poses of money launder ing and terr or ist financing is indispensable and can produce \n",
              "compl ementar y results. \n",
              "(2)  The soundness, integr ity and stability of credit institutions and fi nancial institutions, and confidence in the \n",
              "financia l system as a whole could be ser iously jeopardised by the eff or ts of cr iminals and their associates to \n",
              "disguise the or igin of cr iminal proceeds or to c hannel lawful or illicit money f or terr or ist pur poses. In order to \n",
              "f acilitate their cr iminal activities, mone y launderers and financer s of te r ror ism could tr y to take advantage of the \n",
              "freedom of capital mo vements and the freedom to supply fi nancial ser vices whic h the U nion's integrat ed fi nancial \n",
              "area entails. Theref ore, cer tain coordinating measures are necessar y at U nion level. A t the same time, the \n",
              "objectives of prot ecting society from cr ime and protectin g the stability and integrit y of the Union's financia l \n",
              "system should be balanced ag ainst the need to create a regulatory en vironment that allo ws compan ies to gro w \n",
              "their businesses without incur r ing dispropor tionate compl iance costs. \n",
              "(3)  This Directive is the f our th directive to address the threat of mone y launder ing. Council Directive 91/308/EEC (\n",
              "4\n",
              ") \n",
              "defined mone y launder ing in term s of dr ugs off ences and imposed obligations solely on the financial sector . \n",
              "5.6.2015 L 141/73 Official Jour nal of the European Union EN     \n",
              "(\n",
              "1\n",
              ") OJ C 166, 12.6.2013, p. 2. \n",
              "(\n",
              "2\n",
              ") OJ C 271, 19.9.2013, p. 31. \n",
              "(\n",
              "3\n",
              ") P osition of the European P arliament of 11 March 2014 (not yet published in the Offi cial Jour nal) and position of the Council at first \n",
              "reading of 20 Apr il 2015 (not yet published in the Offi cial Jour nal). P osition of the European P arliament of 20 Ma y 2015 (not yet \n",
              "published in the Official Jour nal). \n",
              "(\n",
              "4\n",
              ") Council Directive 91/308/EEC of 10 June 1991 on prevention of the use of the f inancial syst em f or the pur pose of money launder ing \n",
              "(OJ L 166, 28.6.1991, p. 77)."
            ],
            "text/plain": [
              "<IPython.core.display.Markdown object>"
            ]
          },
          "metadata": {},
          "output_type": "display_data"
        }
      ],
      "source": [
        "print(all_docs[0].page_content)\n",
        "display(Markdown(all_docs[0].page_content))"
      ]
    },
    {
      "cell_type": "markdown",
      "metadata": {
        "id": "61zR9nrtF4_j"
      },
      "source": [
        "## **Text Cleaning & Preprocessing**\n",
        "\n",
        "To ensure high-quality retrieval, we implemented a **text cleaning function** that:\n",
        "- **Removes unnecessary line breaks**, replacing them with spaces.\n",
        "- **Merges split words** that were incorrectly separated due to PDF formatting.\n",
        "- **Ensures proper spacing and punctuation formatting** for readability.\n",
        "\n",
        "### **How the Cleaning Function Works**\n",
        "1. **Tokenizes text into individual words and symbols**.  \n",
        "2. **Attempts to merge adjacent words** that were mistakenly split.  \n",
        "3. **Verifies word validity** using the **`enchant`** dictionary.  \n",
        "   - If the merged word is valid, it replaces the split parts.  \n",
        "   - If the merged word is invalid, the function keeps the original split.  \n",
        "4. **Maintains punctuation and structural integrity** to ensure clean, readable text.  \n",
        "\n",
        "This process significantly **improves text consistency**, making it more suitable for retrieval and embedding.\n"
      ]
    },
    {
      "cell_type": "code",
      "execution_count": null,
      "metadata": {
        "id": "nCLX-mlj4FzU"
      },
      "outputs": [],
      "source": [
        "import enchant\n",
        "import re\n",
        "\n",
        "# Load the English dictionary\n",
        "d = enchant.Dict(\"en_US\")\n",
        "\n",
        "# Function to correct split words\n",
        "def correct_split_words(sentence):\n",
        "    # Replace newlines with spaces\n",
        "    sentence = sentence.replace(\"\\n\", \" \")\n",
        "\n",
        "    words = sentence.split()  # Tokenize the sentence\n",
        "    i = 0\n",
        "    corrected_sentence = []\n",
        "\n",
        "    while i < len(words) - 1:\n",
        "        merged_word = words[i] + words[i+1]  # Merge adjacent words\n",
        "        stripped_merged_word = re.sub(r'[^a-zA-Z]', '', merged_word) #remove symbols from merged word using regex\n",
        "\n",
        "        # check if stripped merged word is empty\n",
        "        if stripped_merged_word == '':\n",
        "            corrected_sentence.append(words[i])\n",
        "            i += 1\n",
        "        elif d.check(stripped_merged_word):  # Check if merged word is in the dictionary\n",
        "            corrected_sentence.append(merged_word)  # Add corrected word\n",
        "            i += 2  # Skip the next word since it's already merged\n",
        "        else:\n",
        "            corrected_sentence.append(words[i])  # Add unmerged word\n",
        "            i += 1  # Move to the next word\n",
        "\n",
        "    # Add the last word if it wasn't merged\n",
        "    if i < len(words):\n",
        "        corrected_sentence.append(words[i])\n",
        "\n",
        "    corrected_sentence = \" \".join(corrected_sentence)\n",
        "\n",
        "    corrected_sentence = re.sub(r'([,.\")(])(?=\\D)', r'\\1 ', corrected_sentence)\n",
        "    corrected_sentence = re.sub(r'\\s+([,.)])', r'\\1', corrected_sentence)\n",
        "    corrected_sentence = re.sub(r'\\(\\s+', '(', corrected_sentence)\n",
        "    corrected_sentence = re.sub(r'\\s+', ' ', corrected_sentence).strip()\n",
        "    corrected_sentence = re.sub(r'(\\d)([A-Za-z])', r'\\1 \\2', corrected_sentence)\n",
        "    corrected_sentence = re.sub(r'([A-Za-z]{2,})(\\d+)', r'\\1 \\2', corrected_sentence)\n",
        "    corrected_sentence = re.sub(r'(\\w)(\\()(?!s\\))', r'\\1 \\2', corrected_sentence)\n",
        "\n",
        "    return corrected_sentence"
      ]
    },
    {
      "cell_type": "markdown",
      "metadata": {
        "id": "N3LkQeb4IEFh"
      },
      "source": [
        "## **Applying Text Cleaning to All Chunks**\n",
        "Now that we have defined the **`correct_split_words()` function**, we apply it to **every chunk in `all_docs[]`**.\n",
        "\n",
        "This ensures that:\n",
        "\n",
        "✔ **All retrieved text is well-formatted** before embedding.  \n",
        "✔ **Errors from extraction are minimized.**  \n",
        "✔ **Retrieval quality is improved** since the model will process clearer text.\n"
      ]
    },
    {
      "cell_type": "code",
      "execution_count": null,
      "metadata": {
        "id": "Hj7p4ylv4FzX",
        "outputId": "e7f6a17e-8070-400d-e013-7b4f2e77e225"
      },
      "outputs": [
        {
          "name": "stdout",
          "output_type": "stream",
          "text": [
            "DIRECTIVES DIRECTIVE (EU)2015/849 OF THE EUROPEAN PARLIAMENT AND OF THE COUNCIL of 20 May 2015 on the prevention of the use of the financial system for the purposes of money laundering or terror is t financing, amending Regulation (EU) No 648/2012 of the European Parliament and of the Council, and repealing Directive 2005/60/EC of the European Parliament and of the Council and Commission Directive 2006/70/EC (Text with EEA relevance) THE EUROPEAN PARLIAMENT AND THE COUNCIL OF THE EUROPEAN UNION, Having regard to the Treaty on the Functioning of the European Union, and in particular Article 114 thereof, Having regard to the proposal from the European Commission, After transmission of the draft legislative act to the national parliaments, Having regard to the opinion of the European Central Bank (1), Ha ving regard to the opinion of the European Economic and Social Committee (2), A cting in accordance with the ordinary legislative procedure (3), Whereas: (1) Flo ws of illicit money can damage the integrity, stability and reputation of the financial sector, and threaten the internal market of the Union as well as international development. Money laundering, terrorism financing and org anised crime remain significant problems which should be addressed at Union level. In addition to further developing the criminal law approach at Union level, targeted and propor tionat e prevention of the use of the financial system for the purposes of money laundering and terror ist financing is indispensable and can produce compl ementar y results. (2) The soundness, integrity and stability of credit institutions and financial institutions, and confidence in the financial system as a whole could be seriously jeopardised by the eff orts of criminals and their associates to disguise the origin of criminal proceeds or to channel lawful or illicit money for terror ist purposes. In order to facilitate their criminal activities, money launderers and financer s of ter ror ism could try to take advantage of the freedom of capital movements and the freedom to supply financial services which the Union's integrated financial area entails. Therefore, certain coordinating measures are necessary at Union level. At the same time, the objectives of protecting society from crime and protecting the stability and integrity of the Union's financial system should be balanced against the need to create a regulatory environment that allows companies to grow their businesses without incur ring disproportionate compliance costs. (3) This Directive is the four th directive to address the threat of money laundering. Council Directive 91/308/EEC (4) defined money laundering in terms of drugs off ences and imposed obligations solely on the financial sector. 5.6.2015 L 141/73 Official Journal of the European Union EN (1) OJ C166, 12.6.2013, p. 2. (2) OJ C271, 19.9.2013, p. 31. (3) P osition of the European Parliament of 11 March 2014 (not yet published in the Official Journal) and position of the Council at first reading of 20 April 2015 (not yet published in the Official Journal). Position of the European Parliament of 20 May 2015 (not yet published in the Official Journal). (4) Council Directive 91/308/EEC of 10 June 1991 on prevention of the use of the financial system for the purpose of money laundering (OJ L166, 28.6.1991, p. 77).\n"
          ]
        }
      ],
      "source": [
        "# Apply the function to all documents in `all_docs[]`\n",
        "for doc in all_docs:\n",
        "    doc.page_content = correct_split_words(doc.page_content)\n",
        "\n",
        "print(all_docs[0].page_content)"
      ]
    },
    {
      "cell_type": "markdown",
      "metadata": {
        "id": "3xD1WtYu4FzZ"
      },
      "source": [
        "## **Verifying Cleaned Text**\n",
        "We now print the **same chunk as before** after applying text cleaning.\n",
        "\n",
        "### **Improvements Observed**\n",
        "✔ **No more unwanted line breaks**.  \n",
        "✔ **Words that were incorrectly split are now properly merged**.  \n",
        "✔ **The text is more structured and readable**.  \n",
        "\n",
        "This cleaned version will be **embedded into our vector database** for retrieval.\n"
      ]
    },
    {
      "cell_type": "code",
      "execution_count": null,
      "metadata": {
        "id": "y2fDs2bA4Fza",
        "outputId": "3b5e7c59-c1c9-4693-cf2f-9df790aa995e"
      },
      "outputs": [
        {
          "name": "stdout",
          "output_type": "stream",
          "text": [
            "DIRECTIVES DIRECTIVE (EU)2015/849 OF THE EUROPEAN PARLIAMENT AND OF THE COUNCIL of 20 May 2015 on the prevention of the use of the financial system for the purposes of money laundering or terror is t financing, amending Regulation (EU) No 648/2012 of the European Parliament and of the Council, and repealing Directive 2005/60/EC of the European Parliament and of the Council and Commission Directive 2006/70/EC (Text with EEA relevance) THE EUROPEAN PARLIAMENT AND THE COUNCIL OF THE EUROPEAN UNION, Having regard to the Treaty on the Functioning of the European Union, and in particular Article 114 thereof, Having regard to the proposal from the European Commission, After transmission of the draft legislative act to the national parliaments, Having regard to the opinion of the European Central Bank (1), Ha ving regard to the opinion of the European Economic and Social Committee (2), A cting in accordance with the ordinary legislative procedure (3), Whereas: (1) Flo ws of illicit money can damage the integrity, stability and reputation of the financial sector, and threaten the internal market of the Union as well as international development. Money laundering, terrorism financing and org anised crime remain significant problems which should be addressed at Union level. In addition to further developing the criminal law approach at Union level, targeted and propor tionat e prevention of the use of the financial system for the purposes of money laundering and terror ist financing is indispensable and can produce compl ementar y results. (2) The soundness, integrity and stability of credit institutions and financial institutions, and confidence in the financial system as a whole could be seriously jeopardised by the eff orts of criminals and their associates to disguise the origin of criminal proceeds or to channel lawful or illicit money for terror ist purposes. In order to facilitate their criminal activities, money launderers and financer s of ter ror ism could try to take advantage of the freedom of capital movements and the freedom to supply financial services which the Union's integrated financial area entails. Therefore, certain coordinating measures are necessary at Union level. At the same time, the objectives of protecting society from crime and protecting the stability and integrity of the Union's financial system should be balanced against the need to create a regulatory environment that allows companies to grow their businesses without incur ring disproportionate compliance costs. (3) This Directive is the four th directive to address the threat of money laundering. Council Directive 91/308/EEC (4) defined money laundering in terms of drugs off ences and imposed obligations solely on the financial sector. 5.6.2015 L 141/73 Official Journal of the European Union EN (1) OJ C166, 12.6.2013, p. 2. (2) OJ C271, 19.9.2013, p. 31. (3) P osition of the European Parliament of 11 March 2014 (not yet published in the Official Journal) and position of the Council at first reading of 20 April 2015 (not yet published in the Official Journal). Position of the European Parliament of 20 May 2015 (not yet published in the Official Journal). (4) Council Directive 91/308/EEC of 10 June 1991 on prevention of the use of the financial system for the purpose of money laundering (OJ L166, 28.6.1991, p. 77).\n"
          ]
        },
        {
          "data": {
            "text/markdown": [
              "DIRECTIVES DIRECTIVE (EU)2015/849 OF THE EUROPEAN PARLIAMENT AND OF THE COUNCIL of 20 May 2015 on the prevention of the use of the financial system for the purposes of money laundering or terror is t financing, amending Regulation (EU) No 648/2012 of the European Parliament and of the Council, and repealing Directive 2005/60/EC of the European Parliament and of the Council and Commission Directive 2006/70/EC (Text with EEA relevance) THE EUROPEAN PARLIAMENT AND THE COUNCIL OF THE EUROPEAN UNION, Having regard to the Treaty on the Functioning of the European Union, and in particular Article 114 thereof, Having regard to the proposal from the European Commission, After transmission of the draft legislative act to the national parliaments, Having regard to the opinion of the European Central Bank (1), Ha ving regard to the opinion of the European Economic and Social Committee (2), A cting in accordance with the ordinary legislative procedure (3), Whereas: (1) Flo ws of illicit money can damage the integrity, stability and reputation of the financial sector, and threaten the internal market of the Union as well as international development. Money laundering, terrorism financing and org anised crime remain significant problems which should be addressed at Union level. In addition to further developing the criminal law approach at Union level, targeted and propor tionat e prevention of the use of the financial system for the purposes of money laundering and terror ist financing is indispensable and can produce compl ementar y results. (2) The soundness, integrity and stability of credit institutions and financial institutions, and confidence in the financial system as a whole could be seriously jeopardised by the eff orts of criminals and their associates to disguise the origin of criminal proceeds or to channel lawful or illicit money for terror ist purposes. In order to facilitate their criminal activities, money launderers and financer s of ter ror ism could try to take advantage of the freedom of capital movements and the freedom to supply financial services which the Union's integrated financial area entails. Therefore, certain coordinating measures are necessary at Union level. At the same time, the objectives of protecting society from crime and protecting the stability and integrity of the Union's financial system should be balanced against the need to create a regulatory environment that allows companies to grow their businesses without incur ring disproportionate compliance costs. (3) This Directive is the four th directive to address the threat of money laundering. Council Directive 91/308/EEC (4) defined money laundering in terms of drugs off ences and imposed obligations solely on the financial sector. 5.6.2015 L 141/73 Official Journal of the European Union EN (1) OJ C166, 12.6.2013, p. 2. (2) OJ C271, 19.9.2013, p. 31. (3) P osition of the European Parliament of 11 March 2014 (not yet published in the Official Journal) and position of the Council at first reading of 20 April 2015 (not yet published in the Official Journal). Position of the European Parliament of 20 May 2015 (not yet published in the Official Journal). (4) Council Directive 91/308/EEC of 10 June 1991 on prevention of the use of the financial system for the purpose of money laundering (OJ L166, 28.6.1991, p. 77)."
            ],
            "text/plain": [
              "<IPython.core.display.Markdown object>"
            ]
          },
          "metadata": {},
          "output_type": "display_data"
        }
      ],
      "source": [
        "print(all_docs[0].page_content)\n",
        "display(Markdown(all_docs[0].page_content))"
      ]
    },
    {
      "cell_type": "markdown",
      "metadata": {
        "id": "vsNErpG04Fzc"
      },
      "source": [
        "## **Embedding the Text for Retrieval**\n",
        "We generate **vector embeddings** for each document chunk using **two different models**:\n",
        "\n",
        "1. **OpenAI Embeddings (`text-embedding-3-large`)**  \n",
        "   - Commercial model known for **high accuracy and performance**.  \n",
        "2. **Hugging Face Embeddings (`all-MiniLM-L6-v2`)**  \n",
        "   - Open-source alternative that balances **efficiency and quality**.\n",
        "\n",
        "Using **two different embedding methods** allows us to compare performance and optimize retrieval accuracy.\n"
      ]
    },
    {
      "cell_type": "code",
      "execution_count": null,
      "metadata": {
        "id": "EKzVHhO84Fzd",
        "outputId": "3cd22dca-5e98-4056-87a8-e066164e6836"
      },
      "outputs": [
        {
          "name": "stdout",
          "output_type": "stream",
          "text": [
            "Initialized OpenAI embeddings.\n",
            "WARNING:tensorflow:From c:\\Users\\Natanael\\anaconda3\\Lib\\site-packages\\tf_keras\\src\\losses.py:2976: The name tf.losses.sparse_softmax_cross_entropy is deprecated. Please use tf.compat.v1.losses.sparse_softmax_cross_entropy instead.\n",
            "\n",
            "Initialized SentenceTransformer embeddings.\n"
          ]
        }
      ],
      "source": [
        "# Create the embeddings function\n",
        "\n",
        "openai_embeddings = OpenAIEmbeddings(model=\"text-embedding-3-large\", api_key=API_KEY)\n",
        "print(\"Initialized OpenAI embeddings.\")\n",
        "\n",
        "sentence_transformer_embeddings = HuggingFaceEmbeddings(model_name=\"all-MiniLM-L6-v2\")\n",
        "print(\"Initialized SentenceTransformer embeddings.\")"
      ]
    },
    {
      "cell_type": "markdown",
      "metadata": {},
      "source": [
        "## **Storing the Chunks in the Vector Database**\n",
        "\n",
        "After initializing the embeddings, we created a vector database using **ChromaDB** and stored the embeddings of each chunk in the database. \n",
        "\n",
        "We created **two databases**: \n",
        "1. One for the **OpenAI** embeddings and \n",
        "2. One for the **Hugging Face** embeddings."
      ]
    },
    {
      "cell_type": "code",
      "execution_count": null,
      "metadata": {
        "id": "jPdkLdni4Fzf",
        "outputId": "ed572954-ac75-4a33-84c9-fe52098700e7"
      },
      "outputs": [
        {
          "name": "stdout",
          "output_type": "stream",
          "text": [
            "All documents loaded and embedded.(huggingface)\n",
            "All documents loaded and embedded.(openai)\n"
          ]
        }
      ],
      "source": [
        "# Load all documents into Chroma\n",
        "db = Chroma.from_documents(all_docs, sentence_transformer_embeddings, persist_directory=\"./chroma_db_clean_huggingface\")\n",
        "print('All documents loaded and embedded.(huggingface)')\n",
        "\n",
        "db_openai = Chroma.from_documents(all_docs, openai_embeddings, persist_directory=\"./chroma_db_clean_openai\")\n",
        "print('All documents loaded and embedded.(openai)')"
      ]
    },
    {
      "cell_type": "markdown",
      "metadata": {
        "id": "TVPK7G1yHn8K"
      },
      "source": [
        "## **Retrieving Similar Chunks**\n",
        "We use **vector similarity search** to find the most relevant document chunks for a given query.\n",
        "\n",
        "### **Retrieval Process**\n",
        "1. **Convert the user query into an embedding**.\n",
        "2. **Compare it against stored document embeddings**.\n",
        "3. **Retrieve the top `k=5` most similar chunks**.\n",
        "\n",
        "Below, we retrieve **3 most relevant chunks** using:\n",
        "- **Hugging Face embeddings** (`all-MiniLM-L6-v2`).\n"
      ]
    },
    {
      "cell_type": "code",
      "execution_count": null,
      "metadata": {
        "id": "EUAO01SW4Fzh",
        "outputId": "6e99ceaa-014e-43c9-9ae9-93737a22f701"
      },
      "outputs": [
        {
          "data": {
            "text/markdown": [
              "I (Legislative acts) REGULATIONS REGULATION (EU) No 575/2013 OF THE EUROPEAN PARLIAMENT AND OF THE COUNCIL of 26 June 2013 on prudential requirements for credit institutions and investment firms and amending Regulation (EU) No 648/2012 (Text with EEA relevance) THE EUROPEAN PARLIAMENT AND THE COUNCIL OF THE EUROPEAN UNION, Having regard to the Treaty on the Functioning of the European Union, and in particular Article 114 thereof, Having regard to the proposal from the European Commission, After transmission of the draft legislative act to the national parliaments, Having regard to the opinion of the European Central Bank (1), Having regard to the opinion of the European Economic and Social Committee (2), Acting in accordance with the ordinary legislative procedure, Whereas:(1) The G-20 Declaration of 2 April 2009 on Strengthening of the Financial System called for internationally consistent efforts that are aimed at strengthening trans­ parency, accountability and regulation by improving the quantity and quality of capital in the banking system once the economic recovery is assured. That declaration also called for introduction of a supplementary non-risk based measure to contain the build-up of leverage in the banking system, and the development of a framework for stronger liquidity buffers. In response to the mandate given by the G-20, in September 2009 the Group of Central Bank Governors and Heads of Supervision (GHOS), agreed on a number of measures to strengthen the regulation of the banking sector. Those measures were endorsed by the G-20 leaders at their Pittsburgh Summit of 24-25 September 2009 and were set out in detail in December 2009. In July and September 2010, GHOS issued two further announcements on design and calibration of those new measures, and in December 2010, the Basel Committee on Banking Supervision (BCBS) published the final measures, that are referred to as the Basel III framework. (2) The High Level Group on Financial Supervision in the EU chaired by Jacques de Larosière (the \" de Larosière group\") invited the Union to develop a more harmonised set of financial regulations. In the context of the future European supervisory architecture, the European Council of 18 and 19 June 2009 also stressed the need to establish a' European Single Rule Book' applicable to all credit institutions and investment firms in the internal market. (3) As stated in the de Larosière group's report of 25 February 2009 (the\" de Larosière report\"), \" a Member State should be able to adopt more stringent national regulatory measures considered to be domes­ tically appropriate for safeguarding financial stability as long as the principles of the internal market and agreed minimum core standards are respected\". (4) Directive 2006/48/EC of the European Parliament and of the Council of 14 June 2006 relating to the taking up and pursuit of the business of credit institutions (3) and Directive 2006/49/EC of the European Parliament and of EN 27.6.2013 Official Journal of the European Union L176/1 (1) OJ C105, 11.4.2012, p. 1. (2) OJ C68, 6.3.2012, p. 39. (3) OJ L177, 30.6.2006, p. 1."
            ],
            "text/plain": [
              "<IPython.core.display.Markdown object>"
            ]
          },
          "metadata": {},
          "output_type": "display_data"
        },
        {
          "name": "stdout",
          "output_type": "stream",
          "text": [
            "******************************************************************************** \n",
            "\n"
          ]
        },
        {
          "data": {
            "text/markdown": [
              "(121) In order to take account of market developments and experience in the application of this Regulation, the Commission should be required to submit reports to the European Parliament and to the Council, together with legislative proposals, where appropriate, on the possible effect of capital requirements on the economic cycle of minimum, own funds requirements for exposures in the form of covered bonds, large exposures, liquidity requirements, leverage, exposures to transferred credit risk, counterparty credit risk and the original exposure method, retail exposures, on the definition of eligible capital, and the level of application of this Regu ­ lation. (122) The primary purpose of the legal framework for credit institutions should be to ensure the operation of vital services to the real economy while limiting the risk of moral hazard. The structural separation of retail and investment banking activities within a banking group could be one of the key tools to support this objective. No provision in the current regulatory framework should therefore prevent the introduction of measures to effect such a separation. The Commission should be required to analyse the issue of structural separation in the Union and submit a report, together with legislative proposals, if appropriate, to the European Parliament and the Council. (123) Similarly, with a view to protecting depositors and preserving financial stability, Member States should also be permitted to adopt structural measures that require credit institutions authorised in that Member State to reduce their exposures to different legal entities depending on their activities, irrespective of where those activities are located. However, because such measures could have a negative impact by fragmenting the internal market, they should only be approved subject to strict conditions pending the entry into force of a future legal act explicitly harmonising such measures. (124) In order to specify the requirements set out in this Regu ­ lation, the power to adopt acts in accordance with Article 290 TFEU should be delegated to the Commission in respect of technical adjustments to this Regulation to clarify definitions to ensure uniform appli ­cation of this Regulation or to take account of devel ­ opments on financial markets, to align terminology on, and frame definitions in accordance with, subsequent relevant acts, to adjust the provisions of this Regulation on own funds to reflect developments in accounting standards or Union law, or with regard to the convergence of supervisory practices, to expand the lists of exposure classes for the purposes of the Stan­ dardised Approach or the IRB Approach to take account of developments on financial markets, to adjust certain amounts relevant to those exposure classes to take into account the effects of inflation; to adjust the list and classification of off- balance sheet items and to adjust specific provisions and technical criteria on the treatment of counterparty credit risk, the Standardised Approach and the IRB Approach, credit risk mitigation, securitisation, operational risk, market risk, liquidity, leverage and disclosure in order to take account of developments on financial markets or in accounting standards or Union law, or with regard to the convergence of supervisory practices and risk measurement and to take account of the outcome of the review of various matters relating to the scope of Directive 2004/39/EC. (125) The power to adopt acts in accordance with Article 290 TFEU should also be delegated to the Commission in respect of prescribing a temporary reduction in the level of own funds or risk weights specified under this Regulation in order to take account of specific circum ­stances, to clarify the exemption of certain exposures from the application of provisions of this Regulation on large exposures, to specify amounts relevant to the"
            ],
            "text/plain": [
              "<IPython.core.display.Markdown object>"
            ]
          },
          "metadata": {},
          "output_type": "display_data"
        },
        {
          "name": "stdout",
          "output_type": "stream",
          "text": [
            "******************************************************************************** \n",
            "\n"
          ]
        },
        {
          "data": {
            "text/markdown": [
              "(4) Directive 2004/39/EC of the European Parliament and of the Council of 21 April 2004 on markets in financial instruments (1) allows investment firms authorised by the competent authorities of their home Member State and supervised by the same authorities to establish branches and provide services freely in other Member States. That Directive accordingly provides for the coordination of the rules governing the authorisation and pursuit of the business of investment firms. It does not, however, establish the amounts of the initial capital of such firms ora common framework for monitoring the risks incurred by them, which should be provided by this Directive. (5) This Directive should constitute the essential instrument for the achievement of the internal market from the point of view of both the freedom of establishment and the freedom to provide financial services in the field of credit institutions. (6) The smooth operation of the internal market requires not only legal rules but also close and regular cooperation and significantly enhanced convergence of regulatory and supervisory practices between the competent authorities of the Member States. (7) Regulation (EU) No 1093/2010 of the European Parliament and of the Council (2) established the European Supervisory Authority (European Banking Authority) (\" EBA\"). This Directive should take into account the role and function of EBA set out in that Regulation and the procedures to be followed when conferring tasks on EBA. (8) Given the increase of tasks conferred on EBA by this Directive and by Regulation (EU) No 575/2013, the European Parliament, the Council and the Commission should ensure that adequate human and financial resources are made available. (9) Asa first step towards a banking union, a single super­ visory mechanism (SSM) should ensure that the Union's policy relating to the prudential supervision of credit institutions is implemented in a coherent and effective manner, that the single rulebook for financial services is applied in the same manner to credit institutions in all Member States concerned, and that those credit insti ­ tutions are subject to supervision of the highest quality, unfettered by other, non-prudential considerations. An SSM is the basis for the next steps towards a banking union. This reflects the principle that any introduction of common intervention mechanisms in the event of a crisis should be preceded by common controls to reduce the likelihood that such intervention mechanisms will have to be used. The European Council noted in its conclusions of 14 December 2012 that \" the Commission will submit in the course of 2013 a proposal fora single resolution mechanism for Member States participating in the SSM, to be examined by co-legislators as a matter of priority with the intention of adopting it during the current parliamentary cycle. \". The integration of the financial framework could be further enhanced through the setting up of a single resolution mechanism, including appropriate and effective backstop arrangements to ensure that bank resolution decisions are taken swiftly, impartially and in the best interests of all concerned. (10) The conferral of supervisory tasks on the European Central Bank (ECB) for some of the Member States should be consistent with the framework of the European System of Financial Supervision setup in 2010 and its underlying objective to develop the single rulebook and enhance convergence of supervisory practices across the Union as a whole. The ECB should carryout its tasks subject to and in compliance with any relevant primary and secondary Union law, Commission decisions in the areas of State aid, competition rules and merger control and the single rulebook applying to all Member States. EBA is entrusted with developing draft technical standards and guidelines and recommendations"
            ],
            "text/plain": [
              "<IPython.core.display.Markdown object>"
            ]
          },
          "metadata": {},
          "output_type": "display_data"
        },
        {
          "name": "stdout",
          "output_type": "stream",
          "text": [
            "******************************************************************************** \n",
            "\n"
          ]
        }
      ],
      "source": [
        "# Example query\n",
        "user_question = \"What are the key points of financial legislation in Europe?\"\n",
        "docs = db.similarity_search(user_question, k=5)\n",
        "\n",
        "# Print results\n",
        "for doc in docs[0:3]:\n",
        "    # print(doc.page_content, '\\n')\n",
        "    display(Markdown(doc.page_content))\n",
        "    print(\"*\"*80, '\\n')"
      ]
    },
    {
      "cell_type": "markdown",
      "metadata": {
        "id": "d9hBUVBS4Fzi"
      },
      "source": [
        "## **Retrieving Similar Chunks**\n",
        "We use **vector similarity search** to find document chunks most relevant to a given query.\n",
        "\n",
        "### **Retrieval Process**\n",
        "1. **Convert the user query into an embedding**.\n",
        "2. **Compare it against stored document embeddings**.\n",
        "3. **Retrieve the top `k=5` most similar chunks**.\n",
        "\n",
        "Below, we retrieve **3 most relevant chunks** using:\n",
        "- **OpenAI embeddings** (`text-embedding-3-large`).\n"
      ]
    },
    {
      "cell_type": "code",
      "execution_count": null,
      "metadata": {
        "id": "vkcwiE4n4Fzi",
        "outputId": "0a045a3a-632f-4716-ba78-9cab4e37e171"
      },
      "outputs": [
        {
          "data": {
            "text/markdown": [
              "I (Legislative acts) REGULATIONS REGULATION (EU) No 575/2013 OF THE EUROPEAN PARLIAMENT AND OF THE COUNCIL of 26 June 2013 on prudential requirements for credit institutions and investment firms and amending Regulation (EU) No 648/2012 (Text with EEA relevance) THE EUROPEAN PARLIAMENT AND THE COUNCIL OF THE EUROPEAN UNION, Having regard to the Treaty on the Functioning of the European Union, and in particular Article 114 thereof, Having regard to the proposal from the European Commission, After transmission of the draft legislative act to the national parliaments, Having regard to the opinion of the European Central Bank (1), Having regard to the opinion of the European Economic and Social Committee (2), Acting in accordance with the ordinary legislative procedure, Whereas:(1) The G-20 Declaration of 2 April 2009 on Strengthening of the Financial System called for internationally consistent efforts that are aimed at strengthening trans­ parency, accountability and regulation by improving the quantity and quality of capital in the banking system once the economic recovery is assured. That declaration also called for introduction of a supplementary non-risk based measure to contain the build-up of leverage in the banking system, and the development of a framework for stronger liquidity buffers. In response to the mandate given by the G-20, in September 2009 the Group of Central Bank Governors and Heads of Supervision (GHOS), agreed on a number of measures to strengthen the regulation of the banking sector. Those measures were endorsed by the G-20 leaders at their Pittsburgh Summit of 24-25 September 2009 and were set out in detail in December 2009. In July and September 2010, GHOS issued two further announcements on design and calibration of those new measures, and in December 2010, the Basel Committee on Banking Supervision (BCBS) published the final measures, that are referred to as the Basel III framework. (2) The High Level Group on Financial Supervision in the EU chaired by Jacques de Larosière (the \" de Larosière group\") invited the Union to develop a more harmonised set of financial regulations. In the context of the future European supervisory architecture, the European Council of 18 and 19 June 2009 also stressed the need to establish a' European Single Rule Book' applicable to all credit institutions and investment firms in the internal market. (3) As stated in the de Larosière group's report of 25 February 2009 (the\" de Larosière report\"), \" a Member State should be able to adopt more stringent national regulatory measures considered to be domes­ tically appropriate for safeguarding financial stability as long as the principles of the internal market and agreed minimum core standards are respected\". (4) Directive 2006/48/EC of the European Parliament and of the Council of 14 June 2006 relating to the taking up and pursuit of the business of credit institutions (3) and Directive 2006/49/EC of the European Parliament and of EN 27.6.2013 Official Journal of the European Union L176/1 (1) OJ C105, 11.4.2012, p. 1. (2) OJ C68, 6.3.2012, p. 39. (3) OJ L177, 30.6.2006, p. 1."
            ],
            "text/plain": [
              "<IPython.core.display.Markdown object>"
            ]
          },
          "metadata": {},
          "output_type": "display_data"
        },
        {
          "name": "stdout",
          "output_type": "stream",
          "text": [
            "******************************************************************************** \n",
            "\n"
          ]
        },
        {
          "data": {
            "text/markdown": [
              "(121) In order to take account of market developments and experience in the application of this Regulation, the Commission should be required to submit reports to the European Parliament and to the Council, together with legislative proposals, where appropriate, on the possible effect of capital requirements on the economic cycle of minimum, own funds requirements for exposures in the form of covered bonds, large exposures, liquidity requirements, leverage, exposures to transferred credit risk, counterparty credit risk and the original exposure method, retail exposures, on the definition of eligible capital, and the level of application of this Regu ­ lation. (122) The primary purpose of the legal framework for credit institutions should be to ensure the operation of vital services to the real economy while limiting the risk of moral hazard. The structural separation of retail and investment banking activities within a banking group could be one of the key tools to support this objective. No provision in the current regulatory framework should therefore prevent the introduction of measures to effect such a separation. The Commission should be required to analyse the issue of structural separation in the Union and submit a report, together with legislative proposals, if appropriate, to the European Parliament and the Council. (123) Similarly, with a view to protecting depositors and preserving financial stability, Member States should also be permitted to adopt structural measures that require credit institutions authorised in that Member State to reduce their exposures to different legal entities depending on their activities, irrespective of where those activities are located. However, because such measures could have a negative impact by fragmenting the internal market, they should only be approved subject to strict conditions pending the entry into force of a future legal act explicitly harmonising such measures. (124) In order to specify the requirements set out in this Regu ­ lation, the power to adopt acts in accordance with Article 290 TFEU should be delegated to the Commission in respect of technical adjustments to this Regulation to clarify definitions to ensure uniform appli ­cation of this Regulation or to take account of devel ­ opments on financial markets, to align terminology on, and frame definitions in accordance with, subsequent relevant acts, to adjust the provisions of this Regulation on own funds to reflect developments in accounting standards or Union law, or with regard to the convergence of supervisory practices, to expand the lists of exposure classes for the purposes of the Stan­ dardised Approach or the IRB Approach to take account of developments on financial markets, to adjust certain amounts relevant to those exposure classes to take into account the effects of inflation; to adjust the list and classification of off- balance sheet items and to adjust specific provisions and technical criteria on the treatment of counterparty credit risk, the Standardised Approach and the IRB Approach, credit risk mitigation, securitisation, operational risk, market risk, liquidity, leverage and disclosure in order to take account of developments on financial markets or in accounting standards or Union law, or with regard to the convergence of supervisory practices and risk measurement and to take account of the outcome of the review of various matters relating to the scope of Directive 2004/39/EC. (125) The power to adopt acts in accordance with Article 290 TFEU should also be delegated to the Commission in respect of prescribing a temporary reduction in the level of own funds or risk weights specified under this Regulation in order to take account of specific circum ­stances, to clarify the exemption of certain exposures from the application of provisions of this Regulation on large exposures, to specify amounts relevant to the"
            ],
            "text/plain": [
              "<IPython.core.display.Markdown object>"
            ]
          },
          "metadata": {},
          "output_type": "display_data"
        },
        {
          "name": "stdout",
          "output_type": "stream",
          "text": [
            "******************************************************************************** \n",
            "\n"
          ]
        },
        {
          "data": {
            "text/markdown": [
              "(4) Directive 2004/39/EC of the European Parliament and of the Council of 21 April 2004 on markets in financial instruments (1) allows investment firms authorised by the competent authorities of their home Member State and supervised by the same authorities to establish branches and provide services freely in other Member States. That Directive accordingly provides for the coordination of the rules governing the authorisation and pursuit of the business of investment firms. It does not, however, establish the amounts of the initial capital of such firms ora common framework for monitoring the risks incurred by them, which should be provided by this Directive. (5) This Directive should constitute the essential instrument for the achievement of the internal market from the point of view of both the freedom of establishment and the freedom to provide financial services in the field of credit institutions. (6) The smooth operation of the internal market requires not only legal rules but also close and regular cooperation and significantly enhanced convergence of regulatory and supervisory practices between the competent authorities of the Member States. (7) Regulation (EU) No 1093/2010 of the European Parliament and of the Council (2) established the European Supervisory Authority (European Banking Authority) (\" EBA\"). This Directive should take into account the role and function of EBA set out in that Regulation and the procedures to be followed when conferring tasks on EBA. (8) Given the increase of tasks conferred on EBA by this Directive and by Regulation (EU) No 575/2013, the European Parliament, the Council and the Commission should ensure that adequate human and financial resources are made available. (9) Asa first step towards a banking union, a single super­ visory mechanism (SSM) should ensure that the Union's policy relating to the prudential supervision of credit institutions is implemented in a coherent and effective manner, that the single rulebook for financial services is applied in the same manner to credit institutions in all Member States concerned, and that those credit insti ­ tutions are subject to supervision of the highest quality, unfettered by other, non-prudential considerations. An SSM is the basis for the next steps towards a banking union. This reflects the principle that any introduction of common intervention mechanisms in the event of a crisis should be preceded by common controls to reduce the likelihood that such intervention mechanisms will have to be used. The European Council noted in its conclusions of 14 December 2012 that \" the Commission will submit in the course of 2013 a proposal fora single resolution mechanism for Member States participating in the SSM, to be examined by co-legislators as a matter of priority with the intention of adopting it during the current parliamentary cycle. \". The integration of the financial framework could be further enhanced through the setting up of a single resolution mechanism, including appropriate and effective backstop arrangements to ensure that bank resolution decisions are taken swiftly, impartially and in the best interests of all concerned. (10) The conferral of supervisory tasks on the European Central Bank (ECB) for some of the Member States should be consistent with the framework of the European System of Financial Supervision setup in 2010 and its underlying objective to develop the single rulebook and enhance convergence of supervisory practices across the Union as a whole. The ECB should carryout its tasks subject to and in compliance with any relevant primary and secondary Union law, Commission decisions in the areas of State aid, competition rules and merger control and the single rulebook applying to all Member States. EBA is entrusted with developing draft technical standards and guidelines and recommendations"
            ],
            "text/plain": [
              "<IPython.core.display.Markdown object>"
            ]
          },
          "metadata": {},
          "output_type": "display_data"
        },
        {
          "name": "stdout",
          "output_type": "stream",
          "text": [
            "******************************************************************************** \n",
            "\n"
          ]
        }
      ],
      "source": [
        "# Example query\n",
        "user_question = \"What are the key points of financial legislation in Europe?\"\n",
        "docs_openai = db.similarity_search(user_question, k=5)\n",
        "\n",
        "# Print results\n",
        "for doc in docs_openai[0:3]:\n",
        "    # print(doc.page_content, '\\n')\n",
        "    display(Markdown(doc.page_content))\n",
        "    print(\"*\"*80, '\\n')"
      ]
    },
    {
      "cell_type": "markdown",
      "metadata": {},
      "source": [
        "## **Loading the Databases**\n",
        "\n",
        "To efficiently retrieve relevant legal documents, we load two separate databases, each utilizing a different embedding model. This allows for flexibility in selecting the appropriate model for different use cases.\n",
        "\n",
        "### **Database Loading Process**\n",
        "1. **Hugging Face Embeddings Database**: \n",
        "   - The first database leverages **Hugging Face embeddings** for similarity search.\n",
        "   - We load it from the specified persistence directory: `./chroma_db_clean_huggingface`.\n",
        "\n",
        "2. **OpenAI Embeddings Database**: \n",
        "   - The second database uses **OpenAI embeddings** for similarity search.\n",
        "   - It is loaded from the directory: `./chroma_db_clean_openai`.\n"
      ]
    },
    {
      "cell_type": "code",
      "execution_count": null,
      "metadata": {},
      "outputs": [],
      "source": [
        "print(\"Loading the databases\")\n",
        "\n",
        "persist_directory_huggingface = \"./chroma_db_clean_huggingface\"\n",
        "db = Chroma(persist_directory=persist_directory_huggingface, embedding_function=sentence_transformer_embeddings)\n",
        "print(\"Huggingface database loaded.\")\n",
        "\n",
        "persist_directory_openai = \"./chroma_db_clean_openai\"\n",
        "db_openai = Chroma(persist_directory=persist_directory_openai, embedding_function=openai_embeddings)\n",
        "print(\"OpenAI database loaded.\")"
      ]
    },
    {
      "cell_type": "markdown",
      "metadata": {
        "id": "dag7h5cbIgxP"
      },
      "source": [
        "## **Formatting Retrieved Chunks for Prompting**\n",
        "To **generate responses**, we need to format the retrieved chunks into a structured prompt.\n",
        "\n",
        "The `_get_document_prompt()` function:\n",
        "1. Extracts **metadata** (source file, page number).\n",
        "2. Combines **relevant document chunks** into a single text block.\n",
        "3. Structures the information **so that the LLM can generate more accurate answers**.\n",
        "\n",
        "This ensures that responses are **contextually accurate and properly cited**.\n"
      ]
    },
    {
      "cell_type": "code",
      "execution_count": null,
      "metadata": {
        "id": "wRi1WblP4Fzj"
      },
      "outputs": [],
      "source": [
        "# Function to combine documents into a single string\n",
        "def _get_document_prompt(docs):\n",
        "    \"\"\"\n",
        "    Combine the content of multiple documents into a single string\n",
        "\n",
        "    Args:\n",
        "    docs (list): A list of Document objects\n",
        "\n",
        "    Returns:\n",
        "    str: A string containing the content of all documents\n",
        "    \"\"\"\n",
        "\n",
        "    prompt = \"\"\n",
        "    for doc in docs:\n",
        "        # Extract metadata for citation\n",
        "        source = doc.metadata.get('source', 'Unknown source')\n",
        "        page = doc.metadata.get('page', 'Unknown page')\n",
        "\n",
        "        # Include both metadata and content in the prompt\n",
        "        prompt += f\"Source: {source}, Page: {page}\\n{doc.page_content}\\n\\n\"\n",
        "\n",
        "    return prompt\n"
      ]
    },
    {
      "cell_type": "markdown",
      "metadata": {},
      "source": [
        "To **provide context for answering user questions**, the `get_context()` function retrieves relevant document chunks based on the query:\n",
        "\n",
        "1. **Arguments**:\n",
        "    - `user_question`: The **query** posed by the user.\n",
        "    - `k`: The number of **top documents** to retrieve.\n",
        "    - `openai`: A **flag** indicating whether to use **OpenAI** embeddings or **SentenceTransformer** embeddings.\n",
        "\n",
        "2. **Logic**:\n",
        "    - Depending on the **embedding model**, the function retrieves the most **similar documents** using Chroma.\n",
        "    - The function then **formats the retrieved content** using `_get_document_prompt()` to provide **context for the response**.\n",
        "\n",
        "This ensures that the generated answer is based on the most relevant chunks of information.\n"
      ]
    },
    {
      "cell_type": "code",
      "execution_count": null,
      "metadata": {},
      "outputs": [],
      "source": [
        "def get_context (user_question, k, openai):\n",
        "    \"\"\"\n",
        "    Get the context for the user question\n",
        "\n",
        "    Args:\n",
        "    user_question (str): The user question\n",
        "    k (int): The number of documents to retrieve\n",
        "    openai (bool): Whether to use OpenAI or SentenceTransformer embeddings\n",
        "\n",
        "    Returns:\n",
        "    str: The context for the user question\n",
        "    \"\"\"\n",
        "    \n",
        "    if openai:\n",
        "        docs = db_openai.similarity_search(user_question, k)\n",
        "    else:\n",
        "        docs = db.similarity_search(user_question, k)\n",
        "    return _get_document_prompt(docs)"
      ]
    },
    {
      "cell_type": "markdown",
      "metadata": {},
      "source": [
        "The `get_prompt()` function is designed to create a **structured prompt** for answering legal questions based on **European Union Financial Laws**.\n",
        "\n",
        "1. **Arguments**:\n",
        "    - `user_question`: The **user’s query**.\n",
        "    - `k`: The number of **documents to retrieve** (default: 10).\n",
        "    - `openai`: A flag for using either **OpenAI** embeddings or **SentenceTransformer** embeddings.\n",
        "\n",
        "2. **Logic**:\n",
        "    - The function generates a **prompt** with the following sections:\n",
        "      - **Introduction**: Clarifies the chatbot’s role as a legal assistant.\n",
        "      - **Context**: Provides relevant legal documentation, retrieved using `get_context()`.\n",
        "      - **Restrictions**: Outlines the chatbot’s behavioral **constraints** (e.g., only factual responses).\n",
        "      - **Task**: Specifies the **answering structure** and the **format** for responding.\n",
        "\n",
        "3. **Output**:\n",
        "    - A **well-formatted prompt** containing the legal context, guidelines for responding, and a structure for the response, including **citation** of the source documents and pages.\n",
        "\n",
        "This ensures that the chatbot gives precise, legally accurate, and properly cited answers.\n"
      ]
    },
    {
      "cell_type": "code",
      "execution_count": null,
      "metadata": {
        "id": "RongZh514Fzk"
      },
      "outputs": [],
      "source": [
        "def get_prompt (user_question, k=10, openai=False):\n",
        "    \"\"\"\n",
        "    Generate a prompt for the user question\n",
        "\n",
        "    Args:\n",
        "    user_question (str): The user question\n",
        "    k (int): The number of documents to retrieve\n",
        "    openai (bool): Whether to use OpenAI or SentenceTransformer embeddings\n",
        "\n",
        "    Returns:\n",
        "    str: The prompt for the user question\n",
        "    \"\"\"\n",
        "\n",
        "    return f\"\"\"\n",
        "## INTRODUCTION\n",
        "You are a Chatbot designed to help lawyers with European Union Financial Laws. \n",
        "The user asked: \"{user_question}\"\n",
        "\n",
        "## CONTEXT\n",
        "Legal Documentation related to the users' question is provided below:\n",
        "'''\n",
        "{get_context(user_question, k, openai)}\n",
        "'''\n",
        "\n",
        "## RESTRICTIONS\n",
        "Refer to the laws by their name, number, or article. \n",
        "Be clear, transparent, and factual: only state what is in the context without providing opinions or subjectivity.\n",
        "Answer the question based solely on the context above; if you do not know the answer, be clear with the user that you do not know.\n",
        "Only respond to questions related to the laws, avoiding jokes, offensive remarks, and discussions on religion or sexuality, unless discussed in the context.\n",
        "If the user does not provide sufficient context, do not answer and instead ask for more information on what the user wants to know.\n",
        "\n",
        "## TASK\n",
        "First, answer directly to the user, if possible.\n",
        "Second, reference the source of the information you provided in parentheses, next to the answer.\n",
        "Lastly, answer in Markdown format.\n",
        "\n",
        "## RESPONSE STRUCTURE:\n",
        "'''\n",
        "# [Answer Title]\n",
        "[answer text (reference). Keep answering and (reference) until you have answered all parts of the question.]\n",
        "\n",
        "Source:\n",
        "- From `[Document name], page [page number]` of the European Union Finance Laws, from the Official Journal of the European Union\n",
        "- From `[Document name], page [page number]` of the European Union Finance Laws, from the Official Journal of the European Union\n",
        "'''\n",
        "Ignore the square brackets and replace the text inside with the relevant information. For example, if the metadata of the used document is \"Source: './data/Finance_laws/EurLex_v1/AMLD_EURLEX.pdf', Page: 0\", the source would be 'AMLD_EURLEX.pdf' and the page number would be '0'. \n",
        "\n",
        "## CONVERSATION:\n",
        "User: {user_question}\n",
        "Agent:\n",
        "\n",
        "\"\"\""
      ]
    },
    {
      "cell_type": "markdown",
      "metadata": {},
      "source": [
        "The `get_message()` function creates a **message object** to send to the chatbot API.\n",
        "\n",
        "1. **Arguments**:\n",
        "    - `user_question`: The **query** from the user.\n",
        "    - `k`: The number of **documents to retrieve** for context (default: 10).\n",
        "    - `openai`: Boolean flag indicating whether to use **OpenAI** or **SentenceTransformer** embeddings.\n",
        "\n",
        "2. **Logic**:\n",
        "    - This function calls `get_prompt()` to generate a **full prompt** (question, context, etc.).\n",
        "    - It then formats the prompt into a **list** with a single message:\n",
        "      - `role`: Defines the message as coming from the **user**.\n",
        "      - `content`: Contains the **formatted prompt**.\n",
        "\n",
        "3. **Output**:\n",
        "    - A list containing the **message object** that can be passed to the chatbot API for processing.\n",
        "\n",
        "This ensures that the chatbot receives the user’s question in a structured and clear format, along with the required legal context.\n"
      ]
    },
    {
      "cell_type": "code",
      "execution_count": null,
      "metadata": {
        "id": "rlBHK_gc4Fzl"
      },
      "outputs": [],
      "source": [
        "def get_message(user_question, k=10, openai=False):\n",
        "    \"\"\"\n",
        "    Get the initial message for the user question\n",
        "    \n",
        "    Args:\n",
        "    user_question (str): The user question\n",
        "    k (int): The number of documents to retrieve\n",
        "    openai (bool): Whether to use OpenAI or SentenceTransformer embeddings\n",
        "    \n",
        "    Returns:\n",
        "    list: A list containing the initial message\n",
        "    \"\"\"\n",
        "    \n",
        "    return [{'role': 'user', 'content': get_prompt(user_question, k, openai)}]"
      ]
    },
    {
      "cell_type": "markdown",
      "metadata": {
        "id": "YpFNaZjFIomZ"
      },
      "source": [
        "## **Generating Responses with RAG**\n",
        "Now that we have:\n",
        "\n",
        "✔ **Loaded and embedded the documents**  \n",
        "✔ **Implemented vector similarity search**  \n",
        "✔ **Formatted retrieved chunks into a structured prompt**  \n",
        "\n",
        "We can now use **GPT-4o-mini** to **generate answers** based on the retrieved legal documents.\n"
      ]
    },
    {
      "cell_type": "code",
      "execution_count": null,
      "metadata": {
        "id": "En-U0mcC4Fzn"
      },
      "outputs": [],
      "source": [
        "def get_response(user_question, just_message = True, model = \"gpt-4o-mini\", k=10, openai = False, **kwargs):\n",
        "    \"\"\"\n",
        "    Get the response to the user question\n",
        "    \n",
        "    Args:\n",
        "    user_question (str): The user question\n",
        "    just_message (bool): Whether to return the message only or the whole object\n",
        "    model (str): The model to use for the response\n",
        "    k (int): The number of documents to retrieve\n",
        "    openai (bool): Whether to use OpenAI or SentenceTransformer embeddings\n",
        "    **kwargs: Additional keyword arguments for the completion, such as `temperature`, `max_tokens`, etc.\n",
        "    \n",
        "    Returns:\n",
        "    str: The response to the user question\n",
        "    \"\"\"\n",
        "    \n",
        "    message = get_message(user_question, k, openai)\n",
        "\n",
        "    completion = client.chat.completions.create(\n",
        "        model=model,\n",
        "        messages=message,\n",
        "        **kwargs\n",
        "    )\n",
        "    \n",
        "    if just_message:\n",
        "        return completion.choices[0].message.content\n",
        "    \n",
        "    return completion.choices[0]"
      ]
    },
    {
      "cell_type": "markdown",
      "metadata": {},
      "source": [
        "\n",
        "---\n",
        "\n",
        "## **Evaluation**\n",
        "To test the chatbot's capabilities, a **legal question** was derived from a specific section of the document.\n"
      ]
    },
    {
      "cell_type": "markdown",
      "metadata": {},
      "source": [
        "After each question, we evaluate the answers and compare them against the section from which the question was made. We also use **ChatGPT** to give us some metrics for the results. These are the metrics it gave us:\n",
        "\n",
        "> There are several metrics we can use to evaluate the responses provided by Hugging Face and OpenAI models. Although this type of evaluation involves some level of subjectivity, you can still quantify certain aspects for more structured comparison. Here are some metrics you could consider:\n",
        ">\n",
        "> 1. **Correctness** (0-1 scale)\n",
        ">   - Definition: Does the response accurately reflect the content of the source document? Does it provide factual information consistent with the text in the document?\n",
        ">   - Evaluation: Assign a score based on how well the response adheres to the original information. A perfect match (fully correct) would get a score of 1, while an inaccurate or irrelevant response would get a score of 0.\n",
        "> 2. **Completeness** (0-1 scale)\n",
        ">   - Definition: Does the response fully answer the question, covering all the necessary aspects?\n",
        ">   - Evaluation: Evaluate how completely the response addresses the question. If it covers everything expected (all key points from the source), give a 1. Partial answers or missing important points could score lower.\n",
        "> 3. **Conciseness** (0-1 scale)\n",
        ">   - Definition: Is the response concise and to the point, without unnecessary information or elaboration?\n",
        ">   - Evaluation: You can score the response higher if it avoids excessive or irrelevant information, and lower if it adds unnecessary detail that could confuse the user.\n",
        "> 4. **Relevance** (0-1 scale)\n",
        ">   - Definition: Are the details mentioned in the response directly related to the source paragraph and the question?\n",
        ">   - Evaluation: Responses that stay on-topic and don't introduce irrelevant points (such as unrelated legal provisions) will score higher. Adding unrelated details lowers the score.\n",
        "> 5. **Citation Accuracy** (0-1 scale)\n",
        ">   - Definition: Does the response cite the correct source page or location?\n",
        ">   - Evaluation: Responses that cite the correct page/location get a full score of 1. If incorrect or off by a significant margin, the score would be reduced.\n",
        "> 6. **Language Quality** (0-1 scale)\n",
        ">   - Definition: Is the response grammatically sound, clear, and easy to understand? Does it use professional language appropriate to the context?\n",
        ">   - Evaluation: Responses with good grammar, clear language, and appropriate terminology score higher. Ambiguous or poorly phrased answers score lower.\n",
        "\n",
        "Then, it calculates a **weighted scale** with the scores obtained. The weights assigned to each are the following:\n",
        "\n",
        "<center>\n",
        "\n",
        "|Metric             |Weight|\n",
        "|------------------:|------|\n",
        "| Correctness       |40%   |\n",
        "| Completeness      |30%   |\n",
        "| Conciseness       |10%   |\n",
        "| Relevance         |10%   |\n",
        "| Citation Accuracy |5%    |\n",
        "| Language Quality  |5%    |\n",
        "\n",
        "</center>\n"
      ]
    },
    {
      "cell_type": "markdown",
      "metadata": {},
      "source": [
        "### **First Question**\n",
        "- **Source**: `data/Finance_laws/EurLex_v1/BRRD_EURLEX.pdf`\n",
        "- **Location**: Page 40, Section 3, Article 10, Paragraph 8\n",
        "\n",
        "The text outlines the **responsibilities of Member States** in ensuring that resolution authorities have the power to request financial records from institutions. The specific clause mentions the ability of the resolution authority to set time limits for producing these records, with the possibility of different limits for various contract types.\n",
        "\n",
        "#### Example Text:\n",
        "> Member States shall ensure that resolution authorities have the power to require an institution and an entity referred to in point (b), (c) or (d) of Article 1(1) to maintain detailed records of financial contracts to which it is a party...\n",
        "\n",
        "From this **paragraph**, we can form a question to ask the chatbot, such as:\n",
        "- *\"Do authorities have the power to require an institution to mantain records of financial contracts?\"*\n",
        "\n",
        "This demonstrates how **specific sections** of the document are extracted and **transformed into relevant legal questions** for the chatbot to process.\n"
      ]
    },
    {
      "cell_type": "markdown",
      "metadata": {
        "id": "AVplUeXY4Fzo"
      },
      "source": [
        "#### Hugging Face Embeddings Response\n",
        "\n",
        "We use **Hugging Face embeddings** to answer legal questions by retrieving the most relevant document chunks from the database. This process helps ensure that responses are accurate and grounded in legal documents.\n",
        "\n",
        "##### Response Process\n",
        "1. **Convert the user's legal question** into an embedding using Hugging Face models.\n",
        "2. **Perform a similarity search** to retrieve the most relevant legal text from the database.\n",
        "3. **Generate a response** using the retrieved text and structure it appropriately.\n"
      ]
    },
    {
      "cell_type": "code",
      "execution_count": null,
      "metadata": {
        "id": "RaPsEeDH4Fzp",
        "outputId": "66ea4e21-9912-4750-99b3-26d9abfa5380"
      },
      "outputs": [
        {
          "data": {
            "text/markdown": [
              "# Authority to Require Record-Keeping\n",
              "Yes, authorities do have the power to require an institution to maintain detailed records of financial contracts to which it is a party. Member States are mandated to ensure that resolution authorities possess this power and may specify time-limits for institutions to be capable of producing those records. The resolution authority can also set different time-limits for different types of financial contracts (BRRD, Article 45(1), page 40).\n",
              "\n",
              "Source:\n",
              "- From `BRRD_EURLEX.pdf`, page 40 of the European Union Finance Laws, from the Official Journal of the European Union."
            ],
            "text/plain": [
              "<IPython.core.display.Markdown object>"
            ]
          },
          "metadata": {},
          "output_type": "display_data"
        }
      ],
      "source": [
        "question = \"Do authorities have the power to require an institution to mantain records of financial contracts?\"\n",
        "\n",
        "response = get_response(question)\n",
        "\n",
        "display(Markdown(response))"
      ]
    },
    {
      "cell_type": "markdown",
      "metadata": {
        "id": "eHSG3Si54Fzq"
      },
      "source": [
        "#### OpenAI Embeddings Response\n",
        "\n",
        "We use **OpenAI embeddings** to handle legal questions by performing a similarity search to find the most relevant chunks of legal text from the database. This method leverages powerful models like **`text-embedding-3-large`** to retrieve and structure answers.\n",
        "\n",
        "##### Response Process\n",
        "1. **Convert the user's legal question** into an embedding using OpenAI models.\n",
        "2. **Perform a similarity search** to retrieve the most relevant legal text.\n",
        "3. **Generate a response** based on the retrieved text and present it clearly.\n"
      ]
    },
    {
      "cell_type": "code",
      "execution_count": null,
      "metadata": {
        "id": "CHTSpFTg4Fzr",
        "outputId": "9e2a3ba3-80ad-4a3d-e1be-53b72cbeb4ad"
      },
      "outputs": [
        {
          "data": {
            "text/markdown": [
              "# Authority to Require Maintenance of Financial Records\n",
              "Yes, competent authorities or resolution authorities have the power to require an institution to maintain detailed records of financial contracts (BRRD_EURLEX.pdf, page 110). This requirement is intended to ensure that the authorities can fulfill their responsibilities effectively.\n",
              "\n",
              "Source:\n",
              "- From `BRRD_EURLEX.pdf`, page 110 of the European Union Finance Laws, from the Official Journal of the European Union."
            ],
            "text/plain": [
              "<IPython.core.display.Markdown object>"
            ]
          },
          "metadata": {},
          "output_type": "display_data"
        }
      ],
      "source": [
        "question = \"Do authorities have the power to require an institution to mantain records of financial contracts?\"\n",
        "\n",
        "response = get_response(question, openai=True)\n",
        "\n",
        "display(Markdown(response))"
      ]
    },
    {
      "cell_type": "markdown",
      "metadata": {},
      "source": [
        "#### **Self-Evaluation of Hugging Face and OpenAI Responses for Q1**\n"
      ]
    },
    {
      "cell_type": "markdown",
      "metadata": {},
      "source": [
        "\n",
        "##### **Question Asked**:\n",
        "*\"Do authorities have the power to require an institution to maintain records of financial contracts?\"*\n",
        "\n",
        "##### **Expected Response**:\n",
        "The expected response was to confirm that authorities (specifically resolution authorities) have the power to require institutions to maintain detailed records of financial contracts. The response should also mention the possibility of specifying time limits for producing those records and the allowance for different time limits for various types of contracts, as outlined in the given paragraph.\n",
        "\n",
        "##### **Actual Responses**:\n",
        "\n",
        "**1. Hugging Face Embeddings Response**:\n",
        "- **Output**:\n",
        "    > Yes, authorities do have the power to require an institution to maintain detailed records of financial contracts to which it is a party. Member States are mandated to ensure that resolution authorities possess this power and may specify time-limits for institutions to be capable of producing those records. The resolution authority can also set different time-limits for different types of financial contracts (BRRD, Article 45(1), page 40).\n",
        "\n",
        "- **Evaluation**:\n",
        "    - **Correctness**: This response correctly answers the question, providing information about the authorities' power and even mentions time limits for records, which is directly relevant to the paragraph.\n",
        "    - **Completeness**: It covers the main points of the paragraph, including the authorities’ power and the variation of time limits for different financial contracts. However, it doesn't specifically mention the entities referred to in points (b), (c), and (d) of Article 1(1).\n",
        "    - **Citation**: The response correctly references **page 40**, which aligns with the section from the document.\n",
        "\n",
        "**2. OpenAI Embeddings Response**:\n",
        "- **Output**:\n",
        "    > Yes, competent authorities or resolution authorities have the power to require an institution to maintain detailed records of financial contracts (BRRD_EURLEX.pdf, page 110). This requirement is intended to ensure that the authorities can fulfill their responsibilities effectively.\n",
        "\n",
        "- **Evaluation**:\n",
        "    - **Correctness**: This response also correctly answers the question, mentioning the authorities' power to require record maintenance. However, it lacks specific details on the ability to set time limits for records, which was an important aspect of the paragraph.\n",
        "    - **Completeness**: The response is more general, lacking details about time limits and variations for different contract types. It is a valid response but omits key points expected in a more thorough answer.\n",
        "    - **Citation**: The response cites **page 110**, which differs from the expected page (40).\n",
        "\n",
        "---\n",
        "\n",
        "##### **Strengths**:\n",
        "- Both **Hugging Face** and **OpenAI** embeddings responses correctly identified the core legal authority to require institutions to maintain financial records.\n",
        "- The **Hugging Face response** included more relevant details from the source paragraph, including the mention of time limits and different contract types, making it more complete.\n",
        "- The **OpenAI response** provided a more general answer, which, while correct, missed the finer details provided in the legal text.\n",
        "\n",
        "##### **Weaknesses**:\n",
        "- **OpenAI response** cited a different page number (110) than expected. While the general idea was conveyed, it lacked precision.\n",
        "- Neither response explicitly mentioned the entities outlined in **points (b), (c), or (d) of Article 1(1)**, which were referenced in the paragraph, though this might be acceptable given the broader question scope.\n",
        "\n",
        "---\n",
        "\n",
        "#### **Document Results Summary**:\n",
        "\n",
        "##### **Hugging Face Embeddings**:\n",
        "- **Correctness**: High — It accurately reflects the legal obligations and powers granted to authorities.\n",
        "- **Completeness**: High — It covers the essential points, including time limits and the scope of authority, as outlined in the legal paragraph.\n",
        "- **Citation**: Accurate citation of **page 40**, directly reflecting the document's structure.\n",
        "\n",
        "##### **OpenAI Embeddings**:\n",
        "- **Correctness**: Moderate — It correctly identifies the authorities' power but lacks detailed specifics.\n",
        "- **Completeness**: Moderate — The response is general and misses details on time limits and the different treatment of financial contracts.\n",
        "- **Citation**: Incorrect — The reference to **page 110** is likely from a different section.\n",
        "\n",
        "---\n",
        "\n",
        "#### **Conclusion**:\n",
        "The **Hugging Face embeddings response** performed better in this scenario due to its more detailed and accurate reflection of the paragraph. The **OpenAI embeddings response**, while correct, was more general and less precise in both content and citation.\n"
      ]
    },
    {
      "cell_type": "markdown",
      "metadata": {},
      "source": [
        "#### **ChatGPT Evaluation for Question 1**\n",
        "\n",
        "| Metric              | Weight | Hugging Face Score | OpenAI Score |\n",
        "|---------------------|--------|--------------------|--------------|\n",
        "| **Correctness**      | 0.4    | 0.9                | 0.8          |\n",
        "| **Completeness**     | 0.3    | 0.95               | 0.85         |\n",
        "| **Conciseness**      | 0.1    | 0.9                | 0.7          |\n",
        "| **Relevance**        | 0.1    | 0.9                | 0.75         |\n",
        "| **Citation Accuracy**| 0.05   | 0.2                | 0.1          |\n",
        "| **Language Quality** | 0.05   | 0.95               | 0.9          |\n",
        "\n",
        "---\n",
        "\n",
        "##### **Weighted Scores Calculation**\n",
        "\n",
        "- **Hugging Face Weighted Score**: \n",
        "$$ \n",
        "  = (0.4 * 0.9) + (0.3 * 0.95) + (0.1 * 0.9) + (0.1 * 0.9) + (0.05 * 0.2) + (0.05 * 0.95) \\\\\n",
        "  = 0.88 \\\n",
        "$$\n",
        "\n",
        "- **OpenAI Weighted Score**:  \n",
        "$$\n",
        "   = (0.4 * 0.8) + (0.3 * 0.85) + (0.1 * 0.7) + (0.1 * 0.75) + (0.05 * 0.1) + (0.05 * 0.9) \\\\\n",
        "   = 0.78 \\\n",
        "$$"
      ]
    },
    {
      "cell_type": "code",
      "execution_count": null,
      "metadata": {},
      "outputs": [],
      "source": [
        "##########################################################################################################################################"
      ]
    },
    {
      "cell_type": "markdown",
      "metadata": {},
      "source": [
        "### **Second Question**\n",
        "- **Source** `data/Finance_laws/EurLex_v1/CRR_EURLEX.pdf`\n",
        "- **Location**: Page 73\n",
        "\n",
        "We took the following paragraph from the document\n",
        "\n",
        "> Article 108 \n",
        ">\n",
        "> **Use of credit risk mitigation technique under the \n",
        "Standardised Approach and the IRB Approach**\n",
        "> 1. For an exposure to which an institution applies the Standardised Approach under Chapter 2 or applies the IRB Approach under Chapter 3 but without using its own estimates of loss given default (LGD) and conversion factors under Article 151, the institution may use credit risk mitigation in accordance with Chapter 4 in the calculation of risk-weighted exposure amounts for the purposes of points (a) and (f) of Article 92(3) or, as relevant, expected loss amounts for the purposes of the calculation referred to in point (d) of Article 36(1) and point (c) of Article 62. \n",
        "> 2. For an exposure to which an institution applies the IRB Approach by using their own estimates of LGD and conversion factors under Article 151, the institution may use credit risk mitigation in accordance with Chapter 3. \n",
        "\n",
        "To make the question: ***What is the use of credit risk mitigation technique under the Standardised Approach and the IRB Approach?***"
      ]
    },
    {
      "cell_type": "code",
      "execution_count": null,
      "metadata": {},
      "outputs": [],
      "source": [
        "user_question = \"What is the use of credit risk mitigation technique under the Standardised Approach and the IRB Approach?\"\n",
        "\n",
        "hugging_response = get_response(user_question)\n",
        "openai_response = get_response(user_question, openai=True)\n",
        "\n",
        "display(Markdown(\"# Hugging Face Response\"))\n",
        "display(Markdown(hugging_response))\n",
        "\n",
        "display(Markdown(\"# OpenAI Response\"))\n",
        "display(Markdown(openai_response))"
      ]
    },
    {
      "cell_type": "markdown",
      "metadata": {},
      "source": [
        "#### **Self-Evaluation of Hugging Face and OpenAI Responses for Q2**\n"
      ]
    },
    {
      "cell_type": "markdown",
      "metadata": {},
      "source": [
        "##### **Question Asked**:\n",
        "*\"What is the use of credit risk mitigation technique under the Standardised Approach and the IRB Approach?\"*\n",
        "\n",
        "##### **Expected Response**:\n",
        "The expected response is an explanation of how institutions can use credit risk mitigation techniques under both the Standardised Approach and the IRB Approach. For the Standardised Approach, the focus is on how institutions can apply credit risk mitigation to calculate risk-weighted exposure amounts and expected loss amounts. Under the IRB Approach, the institutions use their own estimates of Loss Given Default (LGD) and conversion factors, also applying credit risk mitigation in accordance with the rules in Chapter 3.\n",
        "\n",
        "##### **Actual Responses**:\n",
        "\n",
        "**1. Hugging Face Embeddings Response**:\n",
        "- **Output**:\n",
        "    > Credit risk mitigation techniques are utilized differently under the Standardised Approach and the Internal Ratings-Based (IRB) Approach.\n",
        "    > \n",
        "    > **Standardised Approach**: Institutions applying the Standardised Approach can use credit risk mitigation techniques to calculate risk-weighted exposure amounts. Specifically, when an exposure is treated under this approach, the institution may incorporate credit risk mitigation in accordance with the relevant provisions, impacting both risk-weighted exposure amounts and expected loss amounts (Article 108(1)).\n",
        "    > \n",
        "    > **IRB Approach**: For institutions using the IRB Approach, credit risk mitigation can also be applied. If an institution utilizes its own estimates of Loss Given Default (LGD) and conversion factors as permitted under Article 151, it can recognize credit risk mitigation strategies in accordance with the respective provisions set out in Chapter 3 (Article 108(2)).\n",
        "    > \n",
        "    > Both approaches aim to effectively manage and reduce the capital requirements related to credit risk by allowing institutions to account for the protections provided by credit risk mitigation techniques (Article 144, CRR).\n",
        "    > \n",
        "    > Source: \n",
        "    > \n",
        "    > - From CRR_EURLEX.pdf, page 72 of the European Union Finance Laws, from the Official Journal of the European Union\n",
        "    > - From CRR_EURLEX.pdf, page 93 of the European Union Finance Laws, from the Official Journal of the European Union\n",
        "\n",
        "- **Evaluation**:\n",
        "    - **Correctness**: The response correctly answers the question by providing a thorough explanation of how credit risk mitigation is used under both approaches, with reference to the specific articles of the document.\n",
        "    - **Completeness**: It covers the essential details for both the Standardised Approach and IRB Approach, but it adds some details (like Article 144) not mentioned in the source paragraph.\n",
        "    - **Citation**: The response cites **pages 72** and **93**. One of them directly correspond to the location of the source paragraph.\n",
        "\n",
        "**2. OpenAI Embeddings Response**:\n",
        "- **Output**:\n",
        "    > Credit risk mitigation techniques can be utilized under both the Standardised Approach and the Internal Ratings-Based (IRB) Approach to adjust the calculations of risk-weighted exposure amounts and expected loss amounts.\n",
        "    > \n",
        "    > **Under the Standardised Approach**: Institutions may use credit risk mitigation when calculating risk-weighted exposure amounts and expected loss amounts, as provided in Article 108(1). They must ensure that they comply with specified provisions, including the treatment of different forms of collateral when covering a single exposure (Article 108(5)).\n",
        "    > \n",
        "    > **Under the IRB Approach**: Institutions that use the IRB Approach, either employing their own estimates of loss given default (LGD) and conversion factors or not, may also apply credit risk mitigation techniques to their calculations, in accordance with the relevant provisions of Chapter 3 (Article 108(2)).\n",
        "    > \n",
        "    > The key condition is that any credit exposure for which credit risk mitigation is applied should have a risk-weighted exposure amount that does not exceed that of an otherwise identical exposure without credit risk mitigation (Article 193(1)). Institutions must also undertake a full credit risk assessment of the underlying exposure, despite having credit risk mitigation in place (Article 108(9)).\n",
        "    > \n",
        "    > Source: \n",
        "    > \n",
        "    > - From CRR_EURLEX.pdf, page 72 of the European Union Finance Laws, from the Official Journal of the European Union\n",
        "    > - From CRR_EURLEX.pdf, page 122 of the European Union Finance Laws, from the Official Journal of the European Union\n",
        "\n",
        "- **Evaluation**:\n",
        "    - **Correctness**: This response correctly explains how credit risk mitigation is applied under both the Standardised Approach and the IRB Approach. However, it introduces additional concepts (e.g., collateral and full credit risk assessment) that aren't part of the original paragraph.\n",
        "    - **Completeness**: While the main ideas are covered, the OpenAI response adds unnecessary details, such as Article 193(1) and Article 108(9), which could confuse the focus of the answer.\n",
        "    - **Citation**: The response cites **pages 72** and **122**. One of them directly correspond to the location of the source paragraph.\n",
        "\n",
        "---\n",
        "\n",
        "##### **Strengths**:\n",
        "- Both responses correctly explain the application of credit risk mitigation techniques under both the **Standardised Approach** and the **IRB Approach**.\n",
        "- **Hugging Face's response** closely mirrors the information expected from the source paragraph.\n",
        "- **OpenAI’s response** includes more detailed provisions, though some are not directly related to the source paragraph.\n",
        "\n",
        "##### **Weaknesses**:\n",
        "- **OpenAI’s response** included additional details that were not relevant to the specific paragraph.\n",
        "- Neither response stuck entirely to the expected content of the source paragraph, and both cited information from beyond the immediate text.\n",
        "\n",
        "---\n",
        "\n",
        "#### **Document Results Summary**:\n",
        "\n",
        "##### **Hugging Face Embeddings**:\n",
        "- **Correctness**: High — It accurately reflects how credit risk mitigation techniques are applied under both approaches.\n",
        "- **Completeness**: High — It covers the essential points expected in the paragraph but adds some external references like Article 144.\n",
        "- **Citation**: Incorrect — Cited **pages 72** and **93**.\n",
        "\n",
        "##### **OpenAI Embeddings**:\n",
        "- **Correctness**: Moderate — It provides an accurate but overly broad explanation that introduces additional details not required.\n",
        "- **Completeness**: Moderate — It covers the main points but adds information that was not necessary (e.g., collateral and credit risk assessments).\n",
        "- **Citation**: Incorrect — Cited **pages 72** and **122**.\n",
        "\n",
        "---\n",
        "\n",
        "#### **Conclusion**:\n",
        "Both **Hugging Face** and **OpenAI embeddings** responses provided reasonable explanations of credit risk mitigation techniques under the Standardised Approach and the IRB Approach. However, **Hugging Face** performed better by staying closer to the source paragraph’s content, while **OpenAI** added unnecessary details and cited a wider range of articles. The page citations were incorrect for both responses.\n"
      ]
    },
    {
      "cell_type": "markdown",
      "metadata": {},
      "source": [
        "Here’s the evaluation, including the updated table and weighted scores, based on your instructions regarding the page shift:\n",
        "\n",
        "---\n",
        "\n",
        "#### **ChatGPT Evaluation for Question 2**\n",
        "\n",
        "| **Metric**            | **Hugging Face Score** | **OpenAI Score** |\n",
        "|-----------------------|------------------------|------------------|\n",
        "| **Correctness**        | 0.9                    | 0.9              |\n",
        "| **Completeness**       | 0.85                   | 0.95             |\n",
        "| **Conciseness**        | 0.9                    | 0.75             |\n",
        "| **Relevance**          | 0.9                    | 0.85             |\n",
        "| **Citation Accuracy**  | 0.95                   | 0.95             |\n",
        "| **Language Quality**   | 0.95                   | 0.9              |\n",
        "\n",
        "---\n",
        "\n",
        "##### **Weighted Scores**:\n",
        "\n",
        "The weights (assuming 40% for Correctness, 30% for Completeness, 10% for Conciseness, 10% for Relevance, 5% for Citation Accuracy, and 5% for Language Quality):\n",
        "\n",
        "**Hugging Face Weighted Score**:\n",
        "$$\n",
        "= (0.4 \\times 0.9) + (0.3 \\times 0.85) + (0.1 \\times 0.9) + (0.1 \\times 0.9) + (0.05 \\times 0.95) + (0.05 \\times 0.95) \\\\\n",
        "% = 0.36 + 0.255 + 0.09 + 0.09 + 0.0475 + 0.0475 \\\\\n",
        "= 0.8875\n",
        "$$\n",
        "\n",
        "**OpenAI Weighted Score**:\n",
        "$$\n",
        "\n",
        "= (0.4 \\times 0.9) + (0.3 \\times 0.95) + (0.1 \\times 0.75) + (0.1 \\times 0.85) + (0.05 \\times 0.95) + (0.05 \\times 0.9) \\\\\n",
        "% = 0.36 + 0.285 + 0.075 + 0.085 + 0.0475 + 0.045 \\\\\n",
        "= 0.8975 \\\\\n",
        "\n",
        "$$\n",
        "---\n",
        "\n",
        "So, the final weighted scores are:\n",
        "\n",
        "- **Hugging Face Weighted Score**: 0.8875\n",
        "- **OpenAI Weighted Score**: 0.8975\n",
        "\n"
      ]
    },
    {
      "cell_type": "code",
      "execution_count": null,
      "metadata": {},
      "outputs": [],
      "source": [
        "################################################################"
      ]
    },
    {
      "cell_type": "markdown",
      "metadata": {},
      "source": [
        "### **Third Question**\n",
        "\n",
        "- **Source** `data/Finance_laws/EurLex_v1/IFR_EURLEX.pdf`\n",
        "- **Location**: Page 25\n",
        "\n",
        "We took the following paragraph from the document\n",
        "\n",
        "> RtC K‐factor requirement \n",
        "> The RtC K‐factor requirement is determined by the following formula: \n",
        ">\n",
        "> K‐AUM + K‐CMH + K‐ASA + K‐COH \n",
        ">\n",
        "> where: \n",
        ">\n",
        "> K‐AUM is equal to AUM measured in accordance with Article 17, multiplied by the corresponding coefficient in Article 15 (2); \n",
        ">\n",
        "> K‐CMH is equal to CMH measured in accordance with Article 18, multiplied by the corresponding coefficient in Article 15 (2); \n",
        ">\n",
        "> K‐ASA is equal to ASA measured in accordance with Article 19, multiplied by the corresponding coefficient in Article 15 (2); \n",
        ">\n",
        "> K‐COH is equal to COH measured in accordance with Article 20, multiplied by the corresponding coefficient in Article 15 (2).\n",
        "\n",
        "To make the question: ***What are RtC K-factor requirements?***"
      ]
    },
    {
      "cell_type": "code",
      "execution_count": null,
      "metadata": {},
      "outputs": [],
      "source": [
        "question = \"What are RtC K-factor requirements?\"\n",
        "\n",
        "hugging_response = get_response(question)\n",
        "openai_response = get_response(question, openai=True)\n",
        "\n",
        "display(Markdown(\"# Hugging Face Response\"))\n",
        "display(Markdown(hugging_response))\n",
        "\n",
        "display(Markdown(\"# OpenAI Response\"))\n",
        "display(Markdown(openai_response))"
      ]
    },
    {
      "cell_type": "markdown",
      "metadata": {},
      "source": [
        "##### **Question Asked**:\n",
        "*\"What are RtC K-factor requirements?\"*\n",
        "\n",
        "##### **Expected Response**:\n",
        "The expected response should outline the formula used to determine the RtC K-factor requirements, with an explanation of the components: K-AUM, K-CMH, K-ASA, and K-COH. Each of these components should be described based on the articles mentioned in the document (Article 17, Article 18, etc.), as they correspond to financial measurements.\n",
        "\n",
        "##### **Actual Responses**:\n",
        "\n",
        "**1. Hugging Face Embeddings Response**:\n",
        "- **Output**:\n",
        "    > The RtC K-factor requirements are determined by the formula: K-AUM + K-CMH + K-ASA + K-COH, where:\n",
        "    > - K-AUM is equal to AUM (Assets Under Management) measured in accordance with Article 17, multiplied by the corresponding coefficient in Article 15(2).\n",
        "    > - K-CMH is equal to CMH (Client Money Held) measured in accordance with Article 18, multiplied by the corresponding coefficient in Article 15(2).\n",
        "    > - K-ASA is equal to ASA (Assets Under Management) measured in accordance with Article 19, multiplied by the corresponding coefficient in Article 15(2).\n",
        "    > - K-COH is equal to COH (Cash Held) measured in accordance with Article 20, multiplied by the corresponding coefficient in Article 15(2).\n",
        "    >\n",
        "    > (source: IFR_EURLEX.pdf, page 36).\n",
        "\n",
        "- **Evaluation**:\n",
        "    - **Correctness**: This response correctly outlines the components of the RtC K-factor requirements, providing relevant details from the source text.\n",
        "    - **Completeness**: It fully explains the main components (K-AUM, K-CMH, K-ASA, and K-COH) and cites the proper articles from the document. The description is clear and concise.\n",
        "    - **Citation**: The response cites **page 36**, but the location in the source is **page 25**, making this citation inaccurate.\n",
        "\n",
        "**2. OpenAI Embeddings Response**:\n",
        "- **Output**:\n",
        "    > The RtC K-factor requirements for investment firms are determined by the following formula:\n",
        "    > - **K-RtC = K-AUM + K-CMH + K-ASA + K-COH**, \n",
        "    >\n",
        "    > where:\n",
        "    > - **K-AUM** refers to the K-factor for assets under management (AUM), calculated based on the rolling average of total monthly assets under management over the last 15 months.\n",
        "    > - **K-CMH** corresponds to client money held (CMH), calculated based on a specified methodology.\n",
        "    > - **K-ASA** is for assets safeguarded and administered (ASA), also calculated in a prescribed manner.\n",
        "    > - **K-COH** relates to client orders handled (COH), which is based on the rolling average of daily client orders over the last six months (excluding the three most recent months) (Article 16).\n",
        "    >\n",
        "    > Additionally, investment firms must monitor their K-factors for trends that could lead to materially different own funds requirements and must notify their competent authority if such changes occur (source: Article 24).\n",
        "\n",
        "- **Evaluation**:\n",
        "    - **Correctness**: The response is correct in its overall explanation of the K-factor requirements and mentions relevant components. However, it introduces additional details not found in the original source, such as the rolling average and monitoring trends.\n",
        "    - **Completeness**: While the response provides an informative answer, it includes details beyond the scope of the paragraph and document provided. It does not align with the content from **page 25** and could cause confusion.\n",
        "    - **Citation**: The response cites multiple pages (**24** and **4**). One of them directly corresponds to the location of the source paragraph.\n",
        "\n",
        "---\n",
        "\n",
        "##### **Strengths**:\n",
        "- Both **Hugging Face** and **OpenAI** embeddings responses provided correct descriptions of the RtC K-factor requirements.\n",
        "- The **Hugging Face response** followed the source more closely, sticking to the articles mentioned in the document.\n",
        "- The **OpenAI response** provided an additional context that, while insightful, was not required based on the specific paragraph cited.\n",
        "\n",
        "##### **Weaknesses**:\n",
        "- One response cited incorrect pages, with **Hugging Face** mentioning **page 36** and **OpenAI** referring to **page 4**.\n",
        "- The **OpenAI response** introduced extra information (e.g., rolling averages and monitoring) that went beyond the question's scope.\n",
        "\n",
        "---\n",
        "\n",
        "#### **Document Results Summary**:\n",
        "\n",
        "##### **Hugging Face Embeddings**:\n",
        "- **Correctness**: High — The response closely follows the source document, with accurate information.\n",
        "- **Completeness**: High — The essential details of the RtC K-factor requirements are clearly outlined, without introducing unnecessary information.\n",
        "- **Citation**: Inaccurate — The response incorrectly references **page 36** instead of **page 25**.\n",
        "\n",
        "##### **OpenAI Embeddings**:\n",
        "- **Correctness**: Moderate — The response correctly identifies the components of the RtC K-factor but includes extra information not needed.\n",
        "- **Completeness**: Moderate — While the response is informative, it goes beyond the necessary scope and misses focus on the exact paragraph.\n",
        "- **Citation**: Inaccurate — The citation refers to **pages 24 and 4**. One of them directly corresponds to the location of the source paragraph.\n",
        "\n",
        "---\n",
        "\n",
        "#### **Conclusion**:\n",
        "The **Hugging Face embeddings response** is more accurate and aligned with the source material. Although both responses provided valid information, the **OpenAI embeddings response** introduced unnecessary additional details and cited incorrect pages.\n",
        "\n",
        "---\n",
        "\n",
        "##### **Metrics Evaluation Table**:\n",
        "\n",
        "\n",
        "| Metric              | Weight | Hugging Face Score | OpenAI Score |\n",
        "|---------------------|--------|--------------------|--------------|\n",
        "| **Correctness**      | 0.4    | 0.85               | 0.9          |\n",
        "| **Completeness**     | 0.3    | 0.9                | 0.85         |\n",
        "| **Conciseness**      | 0.1    | 0.8                | 0.75         |\n",
        "| **Relevance**        | 0.1    | 0.9                | 0.85         |\n",
        "| **Citation Accuracy**| 0.05   | 0.6                | 0.85         |\n",
        "| **Language Quality** | 0.05   | 0.95               | 0.9          |\n",
        "\n",
        "\n",
        "#### **Weighted Scores Calculation**\n",
        "\n",
        "- **Hugging Face Weighted Score**:\n",
        "$$  \n",
        "  = (0.4 * 0.85) + (0.3 * 0.9) + (0.1 * 0.8) + (0.1 * 0.9) + (0.05 * 0.6) + (0.05 * 0.95) \\\\\n",
        "  = 0.865\n",
        "$$\n",
        "- **OpenAI Weighted Score**:\n",
        "$$  \n",
        "  = (0.4 * 0.9) + (0.3 * 0.85) + (0.1 * 0.75) + (0.1 * 0.85) + (0.05 * 0.85) + (0.05 * 0.9) \\\\\n",
        "  = 0.86\n",
        "$$\n"
      ]
    }
  ],
  "metadata": {
    "colab": {
      "provenance": []
    },
    "kernelspec": {
      "display_name": "base",
      "language": "python",
      "name": "python3"
    },
    "language_info": {
      "codemirror_mode": {
        "name": "ipython",
        "version": 3
      },
      "file_extension": ".py",
      "mimetype": "text/x-python",
      "name": "python",
      "nbconvert_exporter": "python",
      "pygments_lexer": "ipython3",
      "version": "3.12.7"
    }
  },
  "nbformat": 4,
  "nbformat_minor": 0
}
